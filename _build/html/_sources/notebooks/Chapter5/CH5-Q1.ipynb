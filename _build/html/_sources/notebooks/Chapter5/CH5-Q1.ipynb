{
 "cells": [
  {
   "cell_type": "markdown",
   "id": "742a799e-3fc0-4183-b977-9652c8e4fbf0",
   "metadata": {},
   "source": [
    "# 5.1: Energy balance for Stream in Control Volume"
   ]
  },
  {
   "cell_type": "markdown",
   "id": "f01ce8c1-28aa-43ed-a388-3f5f286bd48d",
   "metadata": {},
   "source": [
    "## Problem statement:"
   ]
  },
  {
   "cell_type": "markdown",
   "id": "862068ef-46d6-460a-823b-6429c165f6fc",
   "metadata": {},
   "source": [
    "$1 kg$ of steam is confined in a space of the size $1\\:m^3$ with a temoerature of $400 ^{\\circ}  C$. Using CoolProp as a tool to extract thermodynamic properties, determine:\n",
    "\n",
    "a) the pressure reading on a pressure gauge at atmospheric pressure\n",
    "\n",
    "The steam is then heated to double the pressure while the volume does not change. Determine the following:\n",
    "\n",
    "b) the temperature of steam after heating\n",
    "\n",
    "c) how much heat is require to do this\n",
    "\n",
    "d) how would this change if if $C_v$ is used instead of CoolProp? What assumptions are made?"
   ]
  },
  {
   "cell_type": "markdown",
   "id": "7dccd4b9-3904-468a-805d-de8400d45375",
   "metadata": {},
   "source": [
    "## Solution Approach for a)\n",
    "\n",
    "Density $D$ and temperature $T$ are the two known parameters that can be used to extract properties.\n",
    "\n",
    "$D=m/V$ "
   ]
  },
  {
   "cell_type": "code",
   "execution_count": 1,
   "id": "b8f7e1e5-0ef5-4912-b51b-79d7ab1d21cf",
   "metadata": {},
   "outputs": [
    {
     "ename": "ModuleNotFoundError",
     "evalue": "No module named 'CoolProp'",
     "output_type": "error",
     "traceback": [
      "\u001b[1;31m---------------------------------------------------------------------------\u001b[0m",
      "\u001b[1;31mModuleNotFoundError\u001b[0m                       Traceback (most recent call last)",
      "Cell \u001b[1;32mIn[1], line 2\u001b[0m\n\u001b[0;32m      1\u001b[0m \u001b[38;5;66;03m#importing the required library\u001b[39;00m\n\u001b[1;32m----> 2\u001b[0m \u001b[38;5;28;01mimport\u001b[39;00m \u001b[38;5;21;01mCoolProp\u001b[39;00m\u001b[38;5;21;01m.\u001b[39;00m\u001b[38;5;21;01mCoolProp\u001b[39;00m \u001b[38;5;28;01mas\u001b[39;00m \u001b[38;5;21;01mCP\u001b[39;00m\n\u001b[0;32m      4\u001b[0m \u001b[38;5;66;03m# define the given inputs:\u001b[39;00m\n\u001b[0;32m      5\u001b[0m T \u001b[38;5;241m=\u001b[39m \u001b[38;5;241m400\u001b[39m \u001b[38;5;241m+\u001b[39m \u001b[38;5;241m273.15\u001b[39m \u001b[38;5;66;03m#temperature in K\u001b[39;00m\n",
      "\u001b[1;31mModuleNotFoundError\u001b[0m: No module named 'CoolProp'"
     ]
    }
   ],
   "source": [
    "#importing the required library\n",
    "import CoolProp.CoolProp as CP\n",
    "\n",
    "# define the given inputs:\n",
    "T = 400 + 273.15 #temperature in K\n",
    "D = 1 / 1 #density in kg/m3\n",
    "P = CP.PropsSI('P', 'D', D, 'T', T, 'Water') #calculating pressure using coolprop Pa\n",
    "P_g = P - 101325 #gauge pressure in Pa\n",
    "print('The gauge pressure of steam at the given initial properties is',f\"{P_g:.1f}\",'Pa')"
   ]
  },
  {
   "cell_type": "markdown",
   "id": "64bf8acf-2a10-443f-b73a-8a9036282ec2",
   "metadata": {},
   "source": [
    "## Solution Approach for b)\n",
    "\n",
    "The known parameters from the secondary state are pressure\n",
    "\n",
    "$P_{g2} = 2  P_g$\n",
    "\n",
    "and density \n",
    "\n",
    "$D_2 = D$\n",
    "\n",
    "since the mass and the volume of the space remains constant"
   ]
  },
  {
   "cell_type": "code",
   "execution_count": null,
   "id": "1c281e10-b6cc-402a-bb84-235003b86951",
   "metadata": {},
   "outputs": [],
   "source": [
    "# define the inputs:\n",
    "P_g2 = P_g * 2 #gauge pressure in secondary state in Pa\n",
    "P_2 = P_g2 + 101325 #absolute pressure in secondary state in Pa\n",
    "D_2 = D #density in the secondary state in kg/m3\n",
    "T_2 = CP.PropsSI('T', 'D', D_2, 'P', P_2, 'Water') #calculating secondary temperature using coolprop in K\n",
    "T_2C = T_2 - 273.15 #temperature at secondary state in C\n",
    "print('The temperature of steam at the secondary state is',f\"{T_2C:.1f}\",'C')"
   ]
  },
  {
   "cell_type": "markdown",
   "id": "a66651fb-13ba-4dd1-9d4d-c391c9562b76",
   "metadata": {},
   "source": [
    "## Solution Approach for c)\n",
    "\n",
    "Given the first law of thermodynamics,\n",
    "\n",
    "$Q=\\Delta U + W$\n",
    "\n",
    "and $W = 0$ since the boundaries of the space are fixed. Therefore,\n",
    "\n",
    "$Q=\\Delta U=U_2 - U_1=m(u_2-u_1)$"
   ]
  },
  {
   "cell_type": "code",
   "execution_count": null,
   "id": "d19f60ef-a222-4986-8f27-d47c4c6b0116",
   "metadata": {},
   "outputs": [],
   "source": [
    "# define the inputs using coolprop:\n",
    "m = 1 #steam mass in kg\n",
    "u_1 = CP.PropsSI('U', 'D', D, 'T', T, 'Water') #calculating initial internal energy in J/kg\n",
    "u_2 = CP.PropsSI('U', 'D', D_2, 'P', P_2, 'Water')  #calculating secondary internal energy in J/kg\n",
    "Q = m * (u_2 - u_1) / 1000 #heat required in kJ\n",
    "print('The heat required to double the gauge presure is',f\"{Q:.1f}\",'kJ')"
   ]
  },
  {
   "cell_type": "markdown",
   "id": "d0e0cdae-d957-4fce-a08b-526746e67c89",
   "metadata": {},
   "source": [
    "## Solution Approach for d)\n",
    "\n",
    "To use $C_v$ and $C_p$ values to calculate changes in enthalpy and internal energy, ideal gas assumption is to be made for steam.\n",
    "\n",
    "$Q=\\Delta U=m\\Delta u=mC_v\\Delta T$"
   ]
  },
  {
   "cell_type": "code",
   "execution_count": null,
   "id": "ee60193b-62bb-4b2b-a31f-798769df39b5",
   "metadata": {},
   "outputs": [],
   "source": [
    "#define the constants\n",
    "C_v = 1.4108 #C_v of steam in kJ/kg.k\n",
    "Q = m * C_v * (T_2 - T) #heat required in kJ\n",
    "print('The heat required to double the gauge presure is',f\"{Q:.1f}\",'kJ','using C_v')"
   ]
  }
 ],
 "metadata": {
  "kernelspec": {
   "display_name": "oer",
   "language": "python",
   "name": "oerminimal"
  },
  "language_info": {
   "codemirror_mode": {
    "name": "ipython",
    "version": 3
   },
   "file_extension": ".py",
   "mimetype": "text/x-python",
   "name": "python",
   "nbconvert_exporter": "python",
   "pygments_lexer": "ipython3",
   "version": "3.9.19"
  }
 },
 "nbformat": 4,
 "nbformat_minor": 5
}
