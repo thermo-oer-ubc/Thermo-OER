{
 "cells": [
  {
   "cell_type": "markdown",
   "id": "ac4254ef-2edb-435b-a30a-04870f6b17ee",
   "metadata": {},
   "source": [
    "# P-h diagrams"
   ]
  },
  {
   "cell_type": "markdown",
   "id": "d17fd0d2-a7ce-429a-a33e-635b65cf7837",
   "metadata": {},
   "source": [
    "## Tasks:\n",
    "- Zoom in and use the cursor to inspect the values of x and y-axes. \n",
    "- Inspect the critical values of the diagrams below for the three fluids"
   ]
  },
  {
   "cell_type": "code",
   "execution_count": 1,
   "id": "16f25ab0-816d-4dba-8738-ad74134b74ac",
   "metadata": {},
   "outputs": [
    {
     "data": {
      "text/html": [
       "\n",
       "        <iframe\n",
       "            width=\"700\"\n",
       "            height=\"500\"\n",
       "            src=\"Water_p_h_plot.html\"\n",
       "            frameborder=\"0\"\n",
       "            allowfullscreen\n",
       "            \n",
       "        ></iframe>\n",
       "        "
      ],
      "text/plain": [
       "<IPython.lib.display.IFrame at 0x7fdb2450a0d0>"
      ]
     },
     "metadata": {},
     "output_type": "display_data"
    },
    {
     "data": {
      "text/html": [
       "\n",
       "        <iframe\n",
       "            width=\"700\"\n",
       "            height=\"500\"\n",
       "            src=\"Ammonia_p_h_plot.html\"\n",
       "            frameborder=\"0\"\n",
       "            allowfullscreen\n",
       "            \n",
       "        ></iframe>\n",
       "        "
      ],
      "text/plain": [
       "<IPython.lib.display.IFrame at 0x7fdb20481a30>"
      ]
     },
     "metadata": {},
     "output_type": "display_data"
    },
    {
     "data": {
      "text/html": [
       "\n",
       "        <iframe\n",
       "            width=\"700\"\n",
       "            height=\"500\"\n",
       "            src=\"R134a_p_h_plot.html\"\n",
       "            frameborder=\"0\"\n",
       "            allowfullscreen\n",
       "            \n",
       "        ></iframe>\n",
       "        "
      ],
      "text/plain": [
       "<IPython.lib.display.IFrame at 0x7fdb2450a0d0>"
      ]
     },
     "metadata": {},
     "output_type": "display_data"
    }
   ],
   "source": [
    "from IPython.display import IFrame\n",
    "\n",
    "# Display the Water p-h diagram\n",
    "display(IFrame(src='Water_p_h_plot.html', width=700, height=500))\n",
    "\n",
    "# Display the Ammonia p-h diagram\n",
    "display(IFrame(src='Ammonia_p_h_plot.html', width=700, height=500))\n",
    "\n",
    "# Display the R134a p-h diagram\n",
    "display(IFrame(src='R134a_p_h_plot.html', width=700, height=500))\n"
   ]
  }
 ],
 "metadata": {
  "kernelspec": {
   "display_name": "oer",
   "language": "python",
   "name": "oerminimal"
  },
  "language_info": {
   "codemirror_mode": {
    "name": "ipython",
    "version": 3
   },
   "file_extension": ".py",
   "mimetype": "text/x-python",
   "name": "python",
   "nbconvert_exporter": "python",
   "pygments_lexer": "ipython3",
   "version": "3.9.19"
  }
 },
 "nbformat": 4,
 "nbformat_minor": 5
}