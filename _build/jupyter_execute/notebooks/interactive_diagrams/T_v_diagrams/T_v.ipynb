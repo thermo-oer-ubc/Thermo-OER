{
 "cells": [
  {
   "cell_type": "markdown",
   "id": "70c7b018-cf73-40c0-92d9-e9f741dfe443",
   "metadata": {},
   "source": [
    "# T-v diagrams"
   ]
  },
  {
   "cell_type": "markdown",
   "id": "52668aa3-4b1d-4335-995b-239854035aec",
   "metadata": {},
   "source": [
    "## Tasks:\n",
    "- Zoom in and use the cursor to inspect the values of x and y-axes. \n",
    "- Inspect the critical values of the diagrams below for the three fluids"
   ]
  },
  {
   "cell_type": "code",
   "execution_count": 1,
   "id": "ad81c438-d427-4bae-a9bd-7a280942b4cd",
   "metadata": {},
   "outputs": [
    {
     "data": {
      "text/html": [
       "\n",
       "        <iframe\n",
       "            width=\"700\"\n",
       "            height=\"500\"\n",
       "            src=\"Water_T_v_plot.html\"\n",
       "            frameborder=\"0\"\n",
       "            allowfullscreen\n",
       "            \n",
       "        ></iframe>\n",
       "        "
      ],
      "text/plain": [
       "<IPython.lib.display.IFrame at 0x7f7f1c1c2df0>"
      ]
     },
     "metadata": {},
     "output_type": "display_data"
    },
    {
     "data": {
      "text/html": [
       "\n",
       "        <iframe\n",
       "            width=\"700\"\n",
       "            height=\"500\"\n",
       "            src=\"Ammonia_T_v_plot.html\"\n",
       "            frameborder=\"0\"\n",
       "            allowfullscreen\n",
       "            \n",
       "        ></iframe>\n",
       "        "
      ],
      "text/plain": [
       "<IPython.lib.display.IFrame at 0x7f7f1c1c2190>"
      ]
     },
     "metadata": {},
     "output_type": "display_data"
    },
    {
     "data": {
      "text/html": [
       "\n",
       "        <iframe\n",
       "            width=\"700\"\n",
       "            height=\"500\"\n",
       "            src=\"R134a_T_v_plot.html\"\n",
       "            frameborder=\"0\"\n",
       "            allowfullscreen\n",
       "            \n",
       "        ></iframe>\n",
       "        "
      ],
      "text/plain": [
       "<IPython.lib.display.IFrame at 0x7f7f1c1c2df0>"
      ]
     },
     "metadata": {},
     "output_type": "display_data"
    }
   ],
   "source": [
    "from IPython.display import IFrame\n",
    "\n",
    "# Display the Water T-v diagram\n",
    "display(IFrame(src='Water_T_v_plot.html', width=700, height=500))\n",
    "\n",
    "# Display the Ammonia T-v diagram\n",
    "display(IFrame(src='Ammonia_T_v_plot.html', width=700, height=500))\n",
    "\n",
    "# Display the R134a T-v diagram\n",
    "display(IFrame(src='R134a_T_v_plot.html', width=700, height=500))\n"
   ]
  },
  {
   "cell_type": "code",
   "execution_count": null,
   "id": "8e91ffd3-d3aa-4502-9bd6-21a6239bb215",
   "metadata": {},
   "outputs": [],
   "source": []
  }
 ],
 "metadata": {
  "kernelspec": {
   "display_name": "oer",
   "language": "python",
   "name": "oerminimal"
  },
  "language_info": {
   "codemirror_mode": {
    "name": "ipython",
    "version": 3
   },
   "file_extension": ".py",
   "mimetype": "text/x-python",
   "name": "python",
   "nbconvert_exporter": "python",
   "pygments_lexer": "ipython3",
   "version": "3.9.19"
  }
 },
 "nbformat": 4,
 "nbformat_minor": 5
}