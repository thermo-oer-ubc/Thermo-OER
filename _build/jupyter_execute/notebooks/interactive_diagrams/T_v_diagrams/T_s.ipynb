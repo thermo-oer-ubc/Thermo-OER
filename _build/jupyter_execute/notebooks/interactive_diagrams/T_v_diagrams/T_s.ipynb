{
 "cells": [
  {
   "cell_type": "markdown",
   "id": "7863dc48-cda9-4039-8f9f-e41301a9eb91",
   "metadata": {},
   "source": [
    "# T-s diagrams"
   ]
  },
  {
   "cell_type": "markdown",
   "id": "4207dc0d-0052-4d02-8cb9-590eee1f6088",
   "metadata": {},
   "source": [
    "## Tasks:\n",
    "- Zoom in and use the cursor to inspect the values of x and y-axes. \n",
    "- Inspect the critical values of the diagrams below for the three fluids"
   ]
  },
  {
   "cell_type": "code",
   "execution_count": 1,
   "id": "964d8042-4c0b-4463-bbba-ff93998a3434",
   "metadata": {},
   "outputs": [
    {
     "data": {
      "text/html": [
       "\n",
       "        <iframe\n",
       "            width=\"700\"\n",
       "            height=\"500\"\n",
       "            src=\"Water_T_s_plot.html\"\n",
       "            frameborder=\"0\"\n",
       "            allowfullscreen\n",
       "            \n",
       "        ></iframe>\n",
       "        "
      ],
      "text/plain": [
       "<IPython.lib.display.IFrame at 0x7fe380f0d4c0>"
      ]
     },
     "metadata": {},
     "output_type": "display_data"
    },
    {
     "data": {
      "text/html": [
       "\n",
       "        <iframe\n",
       "            width=\"700\"\n",
       "            height=\"500\"\n",
       "            src=\"Ammonia_T_s_plot.html\"\n",
       "            frameborder=\"0\"\n",
       "            allowfullscreen\n",
       "            \n",
       "        ></iframe>\n",
       "        "
      ],
      "text/plain": [
       "<IPython.lib.display.IFrame at 0x7fe380f0d400>"
      ]
     },
     "metadata": {},
     "output_type": "display_data"
    },
    {
     "data": {
      "text/html": [
       "\n",
       "        <iframe\n",
       "            width=\"700\"\n",
       "            height=\"500\"\n",
       "            src=\"R134a_T_s_plot.html\"\n",
       "            frameborder=\"0\"\n",
       "            allowfullscreen\n",
       "            \n",
       "        ></iframe>\n",
       "        "
      ],
      "text/plain": [
       "<IPython.lib.display.IFrame at 0x7fe380f0d4c0>"
      ]
     },
     "metadata": {},
     "output_type": "display_data"
    }
   ],
   "source": [
    "from IPython.display import IFrame\n",
    "\n",
    "display(IFrame(src='Water_T_s_plot.html', width=700, height=500))\n",
    "display(IFrame(src='Ammonia_T_s_plot.html', width=700, height=500))\n",
    "display(IFrame(src='R134a_T_s_plot.html', width=700, height=500))\n"
   ]
  }
 ],
 "metadata": {
  "kernelspec": {
   "display_name": "oer",
   "language": "python",
   "name": "oerminimal"
  },
  "language_info": {
   "codemirror_mode": {
    "name": "ipython",
    "version": 3
   },
   "file_extension": ".py",
   "mimetype": "text/x-python",
   "name": "python",
   "nbconvert_exporter": "python",
   "pygments_lexer": "ipython3",
   "version": "3.9.19"
  }
 },
 "nbformat": 4,
 "nbformat_minor": 5
}