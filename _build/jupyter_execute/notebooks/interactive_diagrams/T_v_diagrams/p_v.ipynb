{
 "cells": [
  {
   "cell_type": "markdown",
   "id": "d3c8a0f3-6c97-40fe-909b-5b3a72436b31",
   "metadata": {},
   "source": [
    "# P-v diagrams"
   ]
  },
  {
   "cell_type": "markdown",
   "id": "f0b4142b-d8d7-488b-b61a-8740fa8472db",
   "metadata": {},
   "source": [
    "## Tasks:\n",
    "- Zoom in and use the cursor to inspect the values of x and y-axes. \n",
    "- Inspect the critical values of the diagrams below for the three fluids"
   ]
  },
  {
   "cell_type": "code",
   "execution_count": 1,
   "id": "0e09e95d-a858-4fd1-9923-202087307cc2",
   "metadata": {},
   "outputs": [
    {
     "data": {
      "text/html": [
       "\n",
       "        <iframe\n",
       "            width=\"700\"\n",
       "            height=\"500\"\n",
       "            src=\"Water_p_v_plot.html\"\n",
       "            frameborder=\"0\"\n",
       "            allowfullscreen\n",
       "            \n",
       "        ></iframe>\n",
       "        "
      ],
      "text/plain": [
       "<IPython.lib.display.IFrame at 0x7fa75bf84310>"
      ]
     },
     "metadata": {},
     "output_type": "display_data"
    },
    {
     "data": {
      "text/html": [
       "\n",
       "        <iframe\n",
       "            width=\"700\"\n",
       "            height=\"500\"\n",
       "            src=\"Ammonia_p_v_plot.html\"\n",
       "            frameborder=\"0\"\n",
       "            allowfullscreen\n",
       "            \n",
       "        ></iframe>\n",
       "        "
      ],
      "text/plain": [
       "<IPython.lib.display.IFrame at 0x7fa75bf84190>"
      ]
     },
     "metadata": {},
     "output_type": "display_data"
    },
    {
     "data": {
      "text/html": [
       "\n",
       "        <iframe\n",
       "            width=\"700\"\n",
       "            height=\"500\"\n",
       "            src=\"R134a_p_v_plot.html\"\n",
       "            frameborder=\"0\"\n",
       "            allowfullscreen\n",
       "            \n",
       "        ></iframe>\n",
       "        "
      ],
      "text/plain": [
       "<IPython.lib.display.IFrame at 0x7fa75bf84310>"
      ]
     },
     "metadata": {},
     "output_type": "display_data"
    }
   ],
   "source": [
    "from IPython.display import IFrame\n",
    "\n",
    "# Example to display the Water p-v diagram\n",
    "display(IFrame(src='Water_p_v_plot.html', width=700, height=500))\n",
    "# Repeat for Ammonia and R134a\n",
    "display(IFrame(src='Ammonia_p_v_plot.html', width=700, height=500))\n",
    "display(IFrame(src='R134a_p_v_plot.html', width=700, height=500))\n"
   ]
  }
 ],
 "metadata": {
  "kernelspec": {
   "display_name": "oer",
   "language": "python",
   "name": "oerminimal"
  },
  "language_info": {
   "codemirror_mode": {
    "name": "ipython",
    "version": 3
   },
   "file_extension": ".py",
   "mimetype": "text/x-python",
   "name": "python",
   "nbconvert_exporter": "python",
   "pygments_lexer": "ipython3",
   "version": "3.9.19"
  }
 },
 "nbformat": 4,
 "nbformat_minor": 5
}