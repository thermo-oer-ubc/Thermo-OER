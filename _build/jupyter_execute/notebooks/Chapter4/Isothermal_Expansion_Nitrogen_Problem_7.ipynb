{
 "cells": [
  {
   "cell_type": "markdown",
   "id": "40d381a7",
   "metadata": {},
   "source": [
    "# 4.6 Isothermal Expansion of Nitrogen\n",
    "\n",
    "## Problem Statement:\n",
    "A cylinder with a movable piston contains 1 kg of nitrogen at 100 kPa and 300 K. \n",
    "It undergoes an isothermal expansion until the volume triples. \n",
    "Calculate the boundary work done during this process and the heat transfer involved.\n",
    "\n",
    "## Solution:"
   ]
  },
  {
   "cell_type": "code",
   "execution_count": 1,
   "id": "ce8324b5",
   "metadata": {},
   "outputs": [
    {
     "name": "stdout",
     "output_type": "stream",
     "text": [
      "Boundary work done (W): 97.8 kJ\n",
      "Heat transfer (Q): 97.8 kJ\n"
     ]
    }
   ],
   "source": [
    "import CoolProp.CoolProp as CP\n",
    "import math\n",
    "\n",
    "# Given values\n",
    "m = 1.0  # Mass of nitrogen in kg\n",
    "T = 300  # Temperature in Kelvin (constant)\n",
    "P1 = 100000  # Initial pressure in Pa\n",
    "V1 = m * CP.PropsSI('Dmolar', 'T', T, 'P', P1, 'Nitrogen')  # Initial volume using density\n",
    "V2 = 3 * V1  # Final volume (tripled)\n",
    "\n",
    "# 1. Boundary work (W)\n",
    "# For isothermal process, W = nRT ln(V2/V1)\n",
    "R = CP.PropsSI('GAS_CONSTANT', 'Nitrogen') / CP.PropsSI('MOLAR_MASS', 'Nitrogen')\n",
    "W = m * R * T * math.log(V2 / V1)\n",
    "\n",
    "# 2. Heat transfer (Q)\n",
    "# For an isothermal process, Q = W\n",
    "Q = W\n",
    "\n",
    "# Output the results\n",
    "print(f\"Boundary work done (W): {round(W/1e3,1)} kJ\")\n",
    "print(f\"Heat transfer (Q): {round(Q/1e3,1)} kJ\")"
   ]
  }
 ],
 "metadata": {
  "jupytext": {
   "text_representation": {
    "extension": ".md",
    "format_name": "myst",
    "format_version": 0.13,
    "jupytext_version": "1.15.2"
   }
  },
  "kernelspec": {
   "display_name": "oer",
   "language": "python",
   "name": "oerminimal"
  },
  "language_info": {
   "codemirror_mode": {
    "name": "ipython",
    "version": 3
   },
   "file_extension": ".py",
   "mimetype": "text/x-python",
   "name": "python",
   "nbconvert_exporter": "python",
   "pygments_lexer": "ipython3",
   "version": "3.9.19"
  },
  "source_map": [
   12,
   23
  ]
 },
 "nbformat": 4,
 "nbformat_minor": 5
}