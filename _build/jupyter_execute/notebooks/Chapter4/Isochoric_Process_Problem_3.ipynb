{
 "cells": [
  {
   "cell_type": "markdown",
   "id": "0f99624e",
   "metadata": {},
   "source": [
    "# 4.2 Isochoric Process for a Gas\n",
    "## Problem Statement:\n",
    "Consider a container with a fixed volume of 0.3 m³ that initially contains helium gas at a temperature of 15°C \n",
    "and a pressure of 100 kPa. The gas undergoes an isochoric (constant volume) heating process until its pressure triples. \n",
    "Calculate:\n",
    "1. The final temperature of the helium gas.\n",
    "2. The change in internal energy of the gas during this process, assuming the specific heat at constant volume (Cv) is known.\n",
    "3. The total heat transfer to the helium gas.\n",
    "\n",
    "Use the ideal gas law and assume helium behaves as an ideal gas.\n",
    "\n",
    "\n",
    "## Solution:"
   ]
  },
  {
   "cell_type": "code",
   "execution_count": 1,
   "id": "a13c1108",
   "metadata": {},
   "outputs": [
    {
     "name": "stdout",
     "output_type": "stream",
     "text": [
      "Final Temperature (T2): 864.5 K\n",
      "Change in internal energy (Δu): 1795.8 kJ\n",
      "Total heat transfer (Q): 1795.8 kJ\n"
     ]
    }
   ],
   "source": [
    "import CoolProp.CoolProp as CP\n",
    "import math\n",
    "\n",
    "# Given values\n",
    "V = 0.3  # Volume in m^3\n",
    "T1 = 15 + 273.15  # Initial temperature in Kelvin\n",
    "P1 = 100000  # Initial pressure in Pa (100 kPa)\n",
    "P2 = 3 * P1  # Final pressure (tripled)\n",
    "gas = 'Helium'\n",
    "\n",
    "# 1. Final Temperature (T2)\n",
    "# Since the process is isochoric, P1/T1 = P2/T2 (Ideal Gas Law)\n",
    "T2 = P2 * T1 / P1\n",
    "\n",
    "# 2. Change in internal energy (Δu)\n",
    "Cv = CP.PropsSI('Cvmass', 'T', T1, 'P', P1, gas)  # Cv for helium\n",
    "delta_u = Cv * (T2 - T1)\n",
    "\n",
    "# 3. Total heat transfer (Q)\n",
    "# For an isochoric process, Q = Δu (First Law of Thermodynamics)\n",
    "Q = delta_u\n",
    "\n",
    "# Output the results\n",
    "print(f\"Final Temperature (T2): {round(T2,1)} K\")\n",
    "print(f\"Change in internal energy (Δu): {round(delta_u/1e3,1)} kJ\")\n",
    "print(f\"Total heat transfer (Q): {round(Q/1e3,1)} kJ\")"
   ]
  },
  {
   "cell_type": "code",
   "execution_count": null,
   "id": "2ac61d03",
   "metadata": {},
   "outputs": [],
   "source": []
  }
 ],
 "metadata": {
  "jupytext": {
   "text_representation": {
    "extension": ".md",
    "format_name": "myst",
    "format_version": 0.13,
    "jupytext_version": "1.15.2"
   }
  },
  "kernelspec": {
   "display_name": "oer",
   "language": "python",
   "name": "oerminimal"
  },
  "language_info": {
   "codemirror_mode": {
    "name": "ipython",
    "version": 3
   },
   "file_extension": ".py",
   "mimetype": "text/x-python",
   "name": "python",
   "nbconvert_exporter": "python",
   "pygments_lexer": "ipython3",
   "version": "3.9.19"
  },
  "source_map": [
   12,
   28,
   58
  ]
 },
 "nbformat": 4,
 "nbformat_minor": 5
}