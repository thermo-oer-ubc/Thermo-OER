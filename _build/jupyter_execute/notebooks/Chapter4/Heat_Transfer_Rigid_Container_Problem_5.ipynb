{
 "cells": [
  {
   "cell_type": "markdown",
   "id": "8450d2f5",
   "metadata": {},
   "source": [
    "# 4.4 Heat Transfer in a Rigid Container\n",
    "\n",
    "## Problem Statement:\n",
    "A rigid container is initially filled with 0.5 kg of carbon dioxide at 20°C and 100 kPa. \n",
    "The container is then heated until the temperature of the gas reaches 80°C. \n",
    "Calculate the amount of heat transferred to the carbon dioxide and the change in its internal energy.\n",
    "\n",
    "## Solution:"
   ]
  },
  {
   "cell_type": "code",
   "execution_count": 1,
   "id": "d81c8ebb",
   "metadata": {},
   "outputs": [
    {
     "name": "stdout",
     "output_type": "stream",
     "text": [
      "Change in internal energy (Δu): 19.6 kJ\n",
      "Total heat transfer (Q): 19.6 kJ\n"
     ]
    }
   ],
   "source": [
    "import CoolProp.CoolProp as CP\n",
    "\n",
    "# Given values\n",
    "m = 0.5  # Mass of carbon dioxide in kg\n",
    "T1 = 20 + 273.15  # Initial temperature in Kelvin\n",
    "T2 = 80 + 273.15  # Final temperature in Kelvin\n",
    "gas = 'CarbonDioxide'\n",
    "\n",
    "# 1. Change in internal energy (Δu)\n",
    "Cv = CP.PropsSI('Cvmass', 'T', T1, 'P', 100000, gas)  # Cv for carbon dioxide\n",
    "delta_u = Cv * (T2 - T1) * m\n",
    "\n",
    "# Convert delta_u to kJ and round to one decimal point\n",
    "delta_u_kJ = round(delta_u / 1000, 1)\n",
    "\n",
    "# 2. Total heat transfer (Q)\n",
    "# For a rigid container, Q = Δu (First Law of Thermodynamics)\n",
    "Q = delta_u\n",
    "\n",
    "# Convert Q to kJ and round to one decimal point\n",
    "Q_kJ = round(Q / 1000, 1)\n",
    "\n",
    "# Output the results\n",
    "print(f\"Change in internal energy (Δu): {delta_u_kJ} kJ\")\n",
    "print(f\"Total heat transfer (Q): {Q_kJ} kJ\")"
   ]
  }
 ],
 "metadata": {
  "jupytext": {
   "text_representation": {
    "extension": ".md",
    "format_name": "myst",
    "format_version": 0.13,
    "jupytext_version": "1.15.2"
   }
  },
  "kernelspec": {
   "display_name": "oer",
   "language": "python",
   "name": "oerminimal"
  },
  "language_info": {
   "codemirror_mode": {
    "name": "ipython",
    "version": 3
   },
   "file_extension": ".py",
   "mimetype": "text/x-python",
   "name": "python",
   "nbconvert_exporter": "python",
   "pygments_lexer": "ipython3",
   "version": "3.9.19"
  },
  "source_map": [
   12,
   23
  ]
 },
 "nbformat": 4,
 "nbformat_minor": 5
}