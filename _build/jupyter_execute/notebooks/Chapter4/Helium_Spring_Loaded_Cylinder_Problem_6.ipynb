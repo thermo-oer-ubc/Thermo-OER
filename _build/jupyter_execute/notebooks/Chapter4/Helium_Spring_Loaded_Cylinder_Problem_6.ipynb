{
 "cells": [
  {
   "cell_type": "markdown",
   "id": "8a709317",
   "metadata": {},
   "source": [
    "# 4.5 Helium in a Spring-Loaded Cylinder\n",
    "\n",
    "## Problem Statement:\n",
    "A spring-loaded piston-cylinder device contains 0.3 kg of helium. \n",
    "Initially, the helium is at 25°C and 150 kPa, and the spring is uncompressed. \n",
    "The system is heated until the pressure doubles and the volume increases by 20%. \n",
    "Calculate the work done by the helium on the spring and the total heat added to the system.\n",
    "## Solution:"
   ]
  },
  {
   "cell_type": "code",
   "execution_count": 1,
   "id": "1ba780ca",
   "metadata": {},
   "outputs": [
    {
     "name": "stdout",
     "output_type": "stream",
     "text": [
      "Final Temperature (T2): 440.1 K\n",
      "Work done by the helium (W): -390.6 kJ\n",
      "Total heat added (Q): -257.9 kJ\n",
      "Change in Internal Energy (ΔU): 132.7 kJ\n"
     ]
    }
   ],
   "source": [
    "import CoolProp.CoolProp as CP\n",
    "import math\n",
    "\n",
    "# Given values\n",
    "m = 0.3  # Mass of helium in kg\n",
    "T1 = 25 + 273.15  # Initial temperature in Kelvin\n",
    "P1 = 150000  # Initial pressure in Pa\n",
    "\n",
    "# Calculate the initial volume using the density\n",
    "V1 = m / CP.PropsSI('D', 'T', T1, 'P', P1, 'Helium')  \n",
    "V2 = V1 * 1.2  # Final volume (20% increase)\n",
    "P2 = 2 * P1  # Final pressure (doubled)\n",
    "\n",
    "# Polytropic exponent for helium\n",
    "n = CP.PropsSI('Cpmass', 'T', T1, 'P', P1, 'Helium') / CP.PropsSI('Cvmass', 'T', T1, 'P', P1, 'Helium')\n",
    "\n",
    "# Calculate final temperature T2 using the polytropic process relation\n",
    "T2 = T1 * (P2 / P1) * (V1 / V2)**n\n",
    "\n",
    "# Calculate work done by the helium (W)\n",
    "if n != 1:\n",
    "    W = (P2 * V2 - P1 * V1) / (1 - n)\n",
    "else:\n",
    "    W = P1 * V1 * math.log(V2 / V1)\n",
    "\n",
    "# Convert W to kJ and round to 1 decimal place\n",
    "W_kJ = round(W / 1000, 1)\n",
    "\n",
    "# Calculate the total heat added (Q)\n",
    "Cv = CP.PropsSI('Cvmass', 'T', T1, 'P', P1, 'Helium')\n",
    "delta_U = Cv * (T2 - T1) * m\n",
    "\n",
    "# Convert delta_U to kJ and round to 1 decimal place\n",
    "delta_U_kJ = round(delta_U / 1000, 1)\n",
    "\n",
    "# Q is the sum of delta_U and W, converted to kJ and rounded\n",
    "Q_kJ = round((delta_U + W) / 1000, 1)\n",
    "\n",
    "# Output the results\n",
    "print(f\"Final Temperature (T2): {round(T2, 1)} K\")\n",
    "print(f\"Work done by the helium (W): {W_kJ} kJ\")\n",
    "print(f\"Total heat added (Q): {Q_kJ} kJ\")\n",
    "print(f\"Change in Internal Energy (ΔU): {delta_U_kJ} kJ\")"
   ]
  }
 ],
 "metadata": {
  "jupytext": {
   "text_representation": {
    "extension": ".md",
    "format_name": "myst",
    "format_version": 0.13,
    "jupytext_version": "1.15.2"
   }
  },
  "kernelspec": {
   "display_name": "oer",
   "language": "python",
   "name": "oerminimal"
  },
  "language_info": {
   "codemirror_mode": {
    "name": "ipython",
    "version": 3
   },
   "file_extension": ".py",
   "mimetype": "text/x-python",
   "name": "python",
   "nbconvert_exporter": "python",
   "pygments_lexer": "ipython3",
   "version": "3.9.19"
  },
  "source_map": [
   12,
   22
  ]
 },
 "nbformat": 4,
 "nbformat_minor": 5
}