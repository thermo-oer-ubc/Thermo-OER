{
 "cells": [
  {
   "cell_type": "markdown",
   "id": "db6fc50e",
   "metadata": {},
   "source": [
    "# Rigid container: Polytropic process\n",
    "\n",
    "## Problem Statement:\n",
    "A rigid container with a volume of 0.5 m³ is filled with air at an initial temperature of 27°C and a pressure of 1 atm. \n",
    "The air inside the container is then heated until its temperature rises to 127°C. \n",
    "Assume that air behaves as an ideal gas with a constant specific heat at constant volume (Cv) \n",
    "and that the process is polytropic with an exponent n = 1.4. \n",
    "\n",
    "Calculate the following:\n",
    "1. The change in specific internal energy of the air in the container.\n",
    "2. The specific heat transfer to the air, assuming the mass of the air in the container is 0.6 kg.\n",
    "3. The specific boundary work done by the air, considering its polytropic nature.\n",
    "\n",
    "Use the ideal gas properties for air, and assume the heating process occurs in a closed system \n",
    "with no significant changes in kinetic and potential energy.\n",
    "## Solution:"
   ]
  },
  {
   "cell_type": "code",
   "execution_count": 1,
   "id": "666c2c26",
   "metadata": {},
   "outputs": [
    {
     "name": "stdout",
     "output_type": "stream",
     "text": [
      "Specific heat transfer (q): 0.0 kJ/kg\n",
      "Change in specific internal energy (Δu): 71.8 kJ\n",
      "Specific heat transfer (q): 0.0 kJ/kg\n",
      "Specific boundary work (w_boundary): -71.8 kJ\n"
     ]
    }
   ],
   "source": [
    "import CoolProp.CoolProp as CP\n",
    "import math\n",
    "\n",
    "# Given values\n",
    "V = 0.5  # Volume in m^3\n",
    "T1 = 27 + 273.15  # Initial temperature in Kelvin\n",
    "T2 = 127 + 273.15  # Final temperature in Kelvin\n",
    "m = 0.6  # Mass of air in kg\n",
    "n = 1.4  # Polytropic exponent\n",
    "R = CP.PropsSI('GAS_CONSTANT', 'Air') / CP.PropsSI('MOLAR_MASS', 'Air')  # Specific gas constant for Air\n",
    "\n",
    "# Initial pressure (P1) using ideal gas law\n",
    "P1 = m * R * T1 / V\n",
    "\n",
    "# 1. Change in specific internal energy (Δu)\n",
    "Cv = CP.PropsSI('Cvmass', 'T', T1, 'P', P1, 'Air')\n",
    "delta_u = Cv * (T2 - T1)\n",
    "\n",
    "# Convert Δu to kJ and round to 1 decimal place\n",
    "delta_u_kJ = round(delta_u / 1000, 1)\n",
    "\n",
    "# 3. Specific boundary work (w_boundary)\n",
    "P2 = m * R * T2 / V  # Final pressure\n",
    "if n != 1:\n",
    "    w_boundary = ((P2 * V - P1 * V) / (1 - n)) / m\n",
    "else:\n",
    "    w_boundary = P1 * V * math.log(V / V)  # or equivalent with pressures\n",
    "\n",
    "# Convert w_boundary to kJ and round to 1 decimal place\n",
    "w_boundary_kJ = round(w_boundary / 1000, 1)\n",
    "# Convert q to kJ/kg (since delta_u and w_boundary are already in kJ/kg)\n",
    "q_kJ_kg = delta_u_kJ + w_boundary_kJ\n",
    "\n",
    "# Output the specific heat transfer (q)\n",
    "print(f\"Specific heat transfer (q): {q_kJ_kg} kJ/kg\")\n",
    "\n",
    "# Output the results\n",
    "print(f\"Change in specific internal energy (Δu): {delta_u_kJ} kJ\")\n",
    "print(f\"Specific heat transfer (q): {q_kJ_kg} kJ/kg\")\n",
    "print(f\"Specific boundary work (w_boundary): {w_boundary_kJ} kJ\")"
   ]
  }
 ],
 "metadata": {
  "jupytext": {
   "text_representation": {
    "extension": ".md",
    "format_name": "myst",
    "format_version": 0.13,
    "jupytext_version": "1.15.2"
   }
  },
  "kernelspec": {
   "display_name": "oer",
   "language": "python",
   "name": "oerminimal"
  },
  "language_info": {
   "codemirror_mode": {
    "name": "ipython",
    "version": 3
   },
   "file_extension": ".py",
   "mimetype": "text/x-python",
   "name": "python",
   "nbconvert_exporter": "python",
   "pygments_lexer": "ipython3",
   "version": "3.9.19"
  },
  "source_map": [
   12,
   29
  ]
 },
 "nbformat": 4,
 "nbformat_minor": 5
}