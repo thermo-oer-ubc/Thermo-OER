{
 "cells": [
  {
   "cell_type": "markdown",
   "id": "4ec5e332-7c2a-45be-abe4-e951cfee9c39",
   "metadata": {},
   "source": [
    "# 3.6 Ideal gas assumption for Water"
   ]
  },
  {
   "cell_type": "markdown",
   "id": "04b98a4c-56d9-4577-ba9e-7b69ac3aae81",
   "metadata": {},
   "source": [
    "## Problem Statement:"
   ]
  },
  {
   "cell_type": "markdown",
   "id": "2db62f76-36db-40da-956d-0ae71fc4b99f",
   "metadata": {},
   "source": [
    "Imagine $1\\:kg$ of water vapor at $2\\:MPa$ and $400 ^{\\circ}  C$. Calculate its volume based on the following. Calculate the error in percentage.\n",
    "\n",
    "a) thermodynamic tables using coolprop\n",
    "\n",
    "b) ideal gas assumption\n",
    "\n",
    "c) ideal gas equation of state coupled with compressibility factor ($Z$)\n",
    "\n",
    "d) pinpoint the water at this state on its phase diagram and monitor the ideal gas assumption error based on the distance from the triple point"
   ]
  },
  {
   "cell_type": "markdown",
   "id": "26760e17-f410-4bbb-b63e-edb53d89dfe4",
   "metadata": {},
   "source": [
    "### Solution Approach for a)"
   ]
  },
  {
   "cell_type": "code",
   "execution_count": 1,
   "id": "a6672703-0660-48f0-a9c1-3555507af7ad",
   "metadata": {},
   "outputs": [
    {
     "name": "stdout",
     "output_type": "stream",
     "text": [
      "The volume of water vapor based on thermodynamic tables is 0.151 m3\n"
     ]
    }
   ],
   "source": [
    "#importing the required library\n",
    "import numpy as np\n",
    "import CoolProp.CoolProp as CP\n",
    "P = 2E+6 #pressure of wator vapor in Pa\n",
    "T = 400 + 273.15 #water vapor temperature in K\n",
    "m = 1 #mass of water vapor in kg\n",
    "D = CP.PropsSI('D', 'P', P, 'T', T, 'Water') #calculating density using coolprop kg/m\n",
    "V = m / D #volume occupied m3\n",
    "print('The volume of water vapor based on thermodynamic tables is',f\"{V:.3f}\",'m3')\n",
    "\n",
    "## this value is treated as reference for error calculation since it's based on experiments\n",
    "V_ref = V"
   ]
  },
  {
   "cell_type": "markdown",
   "id": "dad06f13-55b1-486b-aa27-b54dcad9b6d0",
   "metadata": {},
   "source": [
    "### Solution Approach for b)"
   ]
  },
  {
   "cell_type": "markdown",
   "id": "fcbfec18-f41e-4301-accb-ed6478d19278",
   "metadata": {},
   "source": [
    "To Calculate $V$ the ideal gas equation of state shall be used where\n",
    "\n",
    "$V=mRT/P$"
   ]
  },
  {
   "cell_type": "code",
   "execution_count": 2,
   "id": "c1f1561a-a93e-4ff4-8ec9-ab021a8ce38f",
   "metadata": {},
   "outputs": [
    {
     "name": "stdout",
     "output_type": "stream",
     "text": [
      "The volume of water wapor based on ideal gas correlation is 0.155 m3\n",
      "The error based on ideal gas correlation is 2.721 %\n"
     ]
    }
   ],
   "source": [
    "#introducing constant R\n",
    "R = 0.4615 #Steam gas constant in kJ/kg.K\n",
    "P_kpa = P / 1000 #pressure need to be in KPa to be consistent in ideal gas equation\n",
    "V = m * R * T / P_kpa\n",
    "print('The volume of water wapor based on ideal gas correlation is',f\"{V:.3f}\",'m3')\n",
    "\n",
    "#calculating error\n",
    "E = np.abs(V-V_ref)/V_ref * 100\n",
    "print('The error based on ideal gas correlation is',f\"{E:.3f}\",'%')"
   ]
  },
  {
   "cell_type": "markdown",
   "id": "a4bf49d7-468e-4737-9a4b-2b4596821164",
   "metadata": {},
   "source": [
    "### Solution Approach for c)"
   ]
  },
  {
   "cell_type": "code",
   "execution_count": 3,
   "id": "d48b212b-ec4b-437a-ae5c-927571b4d534",
   "metadata": {},
   "outputs": [
    {
     "name": "stdout",
     "output_type": "stream",
     "text": [
      "The compressibility factor value for P_r = 0.091 and T_r = 1.040 is 0.973\n"
     ]
    }
   ],
   "source": [
    "#Introducing critical values\n",
    "P_crit = 22.06 #critical pressure for water in MPa\n",
    "T_crit = 647.1 #critical temperature for water in k\n",
    "\n",
    "#calculating reduced pressure and temperature\n",
    "P_r = P / 22.06E+6 #reduced pressure\n",
    "T_r = T / T_crit  #reduced temperature\n",
    "\n",
    "#now the code for Question#5 in this chapter is used to calculate compressibility factor (Z)\n",
    "#importing required library\n",
    "import numpy as np\n",
    "import matplotlib.pyplot as plt\n",
    "\n",
    "#introducing constants\n",
    "b1 = 0.1181193\n",
    "b2 = 0.265728\n",
    "b3 = 0.154790\n",
    "b4 = 0.030323\n",
    "c1 = 0.0236744\n",
    "c2 = 0.0186984\n",
    "c3 = 0\n",
    "c4 = 0.042724\n",
    "d1 = 0.155488E-4\n",
    "d2 = 0.623689E-4\n",
    "betha = 0.65392\n",
    "gamma = 0.060167\n",
    "\n",
    "B = b1 - b2/T_r - b3/T_r**2 - b4/T_r**3\n",
    "C = c1 - c2/T_r + c3/T_r**3\n",
    "D = d1 + d2/T_r\n",
    "\n",
    "#V_r in an array structure\n",
    "# an array of V_r is to be built so that Z is calculated based upon. Otherwise, the equation can't be solved analytically for V_r\n",
    "V_r = np.logspace(-0.9, 1.65, 10000) \n",
    "Z_array = 1 + B/V_r + C/V_r**2 + D/V_r**5 + c4*(betha + gamma/V_r**2)*np.exp(-gamma/V_r**2)/(T_r**3 * V_r**2) #Lee-Kesler equation\n",
    "P_r_array = Z_array * T_r / V_r #calculating P_r based on the array built for V_r\n",
    "\n",
    "#finding the index of the array element in P_r_array which is closest to the desired P_r value\n",
    "difference_array = np.absolute(P_r_array-P_r)\n",
    "index = difference_array.argmin()\n",
    "Z = Z_array[index]\n",
    "print('The compressibility factor value for P_r =',f\"{P_r:.3f}\", 'and T_r =', f\"{T_r:.3f}\", 'is', f\"{Z:.3f}\")"
   ]
  },
  {
   "cell_type": "markdown",
   "id": "98c18215-4f6a-4a63-9d93-cb75077b82dd",
   "metadata": {},
   "source": [
    "Looking at compressibility factor,\n",
    "\n",
    "$Z=Pv/RT=PV/mRT$\n",
    "\n",
    "rearranging for V,\n",
    "\n",
    "$V=ZmRT/P$"
   ]
  },
  {
   "cell_type": "code",
   "execution_count": 4,
   "id": "738ac449-41ef-4dfa-b24e-8e9adaaaf78b",
   "metadata": {},
   "outputs": [
    {
     "name": "stdout",
     "output_type": "stream",
     "text": [
      "The volume of water wapor based on ideal gas correlation coupled with compressibiity factor is 0.151 m3\n",
      "The error based on ideal gas correlation coupled with compressibiity factor is 0.082 %\n"
     ]
    }
   ],
   "source": [
    "V = Z * m * R * T / P_kpa\n",
    "print('The volume of water wapor based on ideal gas correlation coupled with compressibiity factor is',f\"{V:.3f}\",'m3')\n",
    "\n",
    "#calculating error\n",
    "E = np.abs(V-V_ref)/V_ref * 100\n",
    "print('The error based on ideal gas correlation coupled with compressibiity factor is',f\"{E:.3f}\",'%')"
   ]
  },
  {
   "cell_type": "markdown",
   "id": "77ad57f1-22d5-44e8-a67c-6d82b5e32150",
   "metadata": {},
   "source": [
    "### Solution Approach for d)"
   ]
  },
  {
   "cell_type": "code",
   "execution_count": 5,
   "id": "56a1927a-7c2f-460c-bd77-80bafc19eb50",
   "metadata": {},
   "outputs": [
    {
     "data": {
      "text/plain": [
       "<matplotlib.legend.Legend at 0x7f78f11b8610>"
      ]
     },
     "execution_count": 5,
     "metadata": {},
     "output_type": "execute_result"
    },
    {
     "data": {
      "image/png": "[encoded data removed]",
      "text/plain": [
       "<Figure size 640x480 with 1 Axes>"
      ]
     },
     "metadata": {},
     "output_type": "display_data"
    }
   ],
   "source": [
    "# define variables\n",
    "Q = 1  # define the steam quality as 1, which is 100% vapor\n",
    "fluid = \"water\"  # define the fluid or material of interest, for full list see CP.Fluidslist()\n",
    "T_min = CP.PropsSI(\"Tmin\", fluid)  # this is the triple-point temp we can get data for water\n",
    "P_min = CP.PropsSI(\"P\", \"T\", T_min, \"Q\", Q, fluid)  # triple-point temp for pressure\n",
    "T_max = CP.PropsSI(\"Tcrit\", fluid)  # this is the max temp we can get data for water\n",
    "T_vals = np.linspace(T_min, T_max, 1000)  # define an array of values from T_min to T_max\n",
    "\n",
    "pressure = [CP.PropsSI(\"P\", \"T\", T, \"Q\", Q, fluid) for T in T_vals]  # call for pressure values using CoolProp\n",
    "\n",
    "plt.plot(T_vals-273.15, pressure, \"--b\", label=\"Saturation Line\")  # plot temp vs specific vol\n",
    "plt.xscale(\"log\")  # use log scale on x axis\n",
    "\n",
    "## something interesting happenning -- why does Saturated liq and vapor P-T curve fall into the same curve?\n",
    "\n",
    "plt.xlabel(\"Temperature [C]\")  # give x axis a label\n",
    "plt.ylabel(\"Pressure [Pa]\")  # give y axis a label\n",
    "\n",
    "# plot various points on the T-v diagram:\n",
    "plt.plot(T,P,'or', label = 'State')\n",
    "plt.plot(T_min-273.15,P_min,'og', label = 'Triple Point')\n",
    "\n",
    "plt.legend()"
   ]
  }
 ],
 "metadata": {
  "kernelspec": {
   "display_name": "oer",
   "language": "python",
   "name": "oerminimal"
  },
  "language_info": {
   "codemirror_mode": {
    "name": "ipython",
    "version": 3
   },
   "file_extension": ".py",
   "mimetype": "text/x-python",
   "name": "python",
   "nbconvert_exporter": "python",
   "pygments_lexer": "ipython3",
   "version": "3.9.19"
  }
 },
 "nbformat": 4,
 "nbformat_minor": 5
}