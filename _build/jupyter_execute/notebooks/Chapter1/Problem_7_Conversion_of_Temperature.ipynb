{
 "cells": [
  {
   "cell_type": "markdown",
   "id": "6882985b",
   "metadata": {},
   "source": [
    "# 1.7 Conversion of Temperature\n",
    "\n",
    "## Problem Statement:\n",
    "Convert a temperature of 20°C to Kelvin."
   ]
  },
  {
   "cell_type": "code",
   "execution_count": 1,
   "id": "93854375",
   "metadata": {},
   "outputs": [
    {
     "name": "stdout",
     "output_type": "stream",
     "text": [
      "Temperature in Kelvin: 293.15 K\n"
     ]
    }
   ],
   "source": [
    "## Solution:\n",
    "\n",
    "# Given value\n",
    "T_Celsius = 20  # Temperature in Celsius\n",
    "\n",
    "# Conversion to Kelvin\n",
    "T_Kelvin = T_Celsius + 273.15\n",
    "\n",
    "# Output the result\n",
    "print(f\"Temperature in Kelvin: {T_Kelvin} K\")"
   ]
  }
 ],
 "metadata": {
  "jupytext": {
   "text_representation": {
    "extension": ".md",
    "format_name": "myst",
    "format_version": 0.13,
    "jupytext_version": "1.15.2"
   }
  },
  "kernelspec": {
   "display_name": "oer",
   "language": "python",
   "name": "oerminimal"
  },
  "language_info": {
   "codemirror_mode": {
    "name": "ipython",
    "version": 3
   },
   "file_extension": ".py",
   "mimetype": "text/x-python",
   "name": "python",
   "nbconvert_exporter": "python",
   "pygments_lexer": "ipython3",
   "version": "3.9.19"
  },
  "source_map": [
   12,
   19
  ]
 },
 "nbformat": 4,
 "nbformat_minor": 5
}