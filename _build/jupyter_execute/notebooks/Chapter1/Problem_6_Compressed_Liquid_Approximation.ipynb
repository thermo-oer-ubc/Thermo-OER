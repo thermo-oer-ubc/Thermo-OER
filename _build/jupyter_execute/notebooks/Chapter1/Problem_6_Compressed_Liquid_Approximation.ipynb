{
 "cells": [
  {
   "cell_type": "markdown",
   "id": "eef4b340",
   "metadata": {},
   "source": [
    "# 1.6 Compressed Liquid Approximation\n",
    "\n",
    "## Problem Statement:\n",
    "For water at 50°C under high pressure, approximate the specific volume, internal energy, enthalpy, and entropy \n",
    "assuming it behaves as a compressed liquid."
   ]
  },
  {
   "cell_type": "code",
   "execution_count": 1,
   "id": "130536cd",
   "metadata": {},
   "outputs": [
    {
     "name": "stdout",
     "output_type": "stream",
     "text": [
      "Specific volume: 988.0 m^3/kg\n",
      "Specific internal energy: 209.33 kJ/kg\n",
      "Specific enthalpy: 209.34 kJ/kg\n",
      "Specific entropy: 0.7 kJ/kg*K\n"
     ]
    }
   ],
   "source": [
    "## Solution:\n",
    "\n",
    "import CoolProp.CoolProp as CP\n",
    "\n",
    "# Given values\n",
    "T = 50 + 273.15  # Temperature in Kelvin\n",
    "\n",
    "# Approximations for compressed liquid\n",
    "v = CP.PropsSI('D', 'T', T, 'Q', 0, 'Water')  # Specific volume\n",
    "u = CP.PropsSI('U', 'T', T, 'Q', 0, 'Water')/1e3  # Specific internal energy\n",
    "h = CP.PropsSI('H', 'T', T, 'Q', 0, 'Water')/1e3  # Specific enthalpy\n",
    "s = CP.PropsSI('S', 'T', T, 'Q', 0, 'Water')/1e3  # Specific entropy\n",
    "\n",
    "# Output the results\n",
    "print(f\"Specific volume: {round(v,2)} m^3/kg\")\n",
    "print(f\"Specific internal energy: {round(u,2)} kJ/kg\")\n",
    "print(f\"Specific enthalpy: {round(h,2)} kJ/kg\")\n",
    "print(f\"Specific entropy: {round(s,2)} kJ/kg*K\")"
   ]
  }
 ],
 "metadata": {
  "jupytext": {
   "text_representation": {
    "extension": ".md",
    "format_name": "myst",
    "format_version": 0.13,
    "jupytext_version": "1.15.2"
   }
  },
  "kernelspec": {
   "display_name": "oer",
   "language": "python",
   "name": "oerminimal"
  },
  "language_info": {
   "codemirror_mode": {
    "name": "ipython",
    "version": 3
   },
   "file_extension": ".py",
   "mimetype": "text/x-python",
   "name": "python",
   "nbconvert_exporter": "python",
   "pygments_lexer": "ipython3",
   "version": "3.9.19"
  },
  "source_map": [
   12,
   20
  ]
 },
 "nbformat": 4,
 "nbformat_minor": 5
}