{
 "cells": [
  {
   "cell_type": "markdown",
   "id": "ce652087",
   "metadata": {},
   "source": [
    "# 1.5 Quality of a Vapor Mixture\n",
    "\n",
    "## Problem Statement:\n",
    "In a vapor mixture at 150°C, the mass of the vapor phase is 3 kg, and the total mass of the mixture is 5 kg. \n",
    "Determine the quality of the mixture."
   ]
  },
  {
   "cell_type": "code",
   "execution_count": 1,
   "id": "18e7f86f",
   "metadata": {},
   "outputs": [
    {
     "name": "stdout",
     "output_type": "stream",
     "text": [
      "Quality of the mixture: 0.6\n"
     ]
    }
   ],
   "source": [
    "## Solution:\n",
    "\n",
    "# Given values\n",
    "m_vapor = 3  # Mass of vapor phase in kg\n",
    "m_total = 5  # Total mass of the mixture in kg\n",
    "\n",
    "# Quality calculation\n",
    "x = m_vapor / m_total\n",
    "\n",
    "# Output the result\n",
    "print(f\"Quality of the mixture: {x}\")"
   ]
  },
  {
   "cell_type": "code",
   "execution_count": null,
   "id": "b0cd119c",
   "metadata": {},
   "outputs": [],
   "source": []
  }
 ],
 "metadata": {
  "jupytext": {
   "text_representation": {
    "extension": ".md",
    "format_name": "myst",
    "format_version": 0.13,
    "jupytext_version": "1.15.2"
   }
  },
  "kernelspec": {
   "display_name": "oer",
   "language": "python",
   "name": "oerminimal"
  },
  "language_info": {
   "codemirror_mode": {
    "name": "ipython",
    "version": 3
   },
   "file_extension": ".py",
   "mimetype": "text/x-python",
   "name": "python",
   "nbconvert_exporter": "python",
   "pygments_lexer": "ipython3",
   "version": "3.9.19"
  },
  "source_map": [
   12,
   20,
   34
  ]
 },
 "nbformat": 4,
 "nbformat_minor": 5
}