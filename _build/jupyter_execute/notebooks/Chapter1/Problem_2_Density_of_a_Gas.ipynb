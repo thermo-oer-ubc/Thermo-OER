{
 "cells": [
  {
   "cell_type": "markdown",
   "id": "c931fe45",
   "metadata": {},
   "source": [
    "# 1.2 Density of a Gas\n",
    "\n",
    "## Problem Statement:\n",
    "A container with a volume of 2 m³ holds 5 kg of nitrogen gas. \n",
    "Calculate the density of the gas."
   ]
  },
  {
   "cell_type": "code",
   "execution_count": 1,
   "id": "963c90ba",
   "metadata": {},
   "outputs": [
    {
     "name": "stdout",
     "output_type": "stream",
     "text": [
      "Density of the nitrogen gas: 2.5 kg/m^3\n"
     ]
    }
   ],
   "source": [
    "## Solution:\n",
    "\n",
    "# Given values\n",
    "m = 5  # Mass of nitrogen in kg\n",
    "V = 2  # Volume in m^3\n",
    "\n",
    "# Density calculation\n",
    "density = m / V\n",
    "\n",
    "# Output the result\n",
    "print(f\"Density of the nitrogen gas: {density} kg/m^3\")"
   ]
  }
 ],
 "metadata": {
  "jupytext": {
   "text_representation": {
    "extension": ".md",
    "format_name": "myst",
    "format_version": 0.13,
    "jupytext_version": "1.15.2"
   }
  },
  "kernelspec": {
   "display_name": "oer",
   "language": "python",
   "name": "OERminimal"
  },
  "language_info": {
   "codemirror_mode": {
    "name": "ipython",
    "version": 3
   },
   "file_extension": ".py",
   "mimetype": "text/x-python",
   "name": "python",
   "nbconvert_exporter": "python",
   "pygments_lexer": "ipython3",
   "version": "3.9.19"
  },
  "source_map": [
   12,
   20
  ]
 },
 "nbformat": 4,
 "nbformat_minor": 5
}