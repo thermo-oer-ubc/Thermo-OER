{
 "cells": [
  {
   "cell_type": "markdown",
   "id": "18244cb6",
   "metadata": {},
   "source": [
    "# 1.8 Specific Entropy Calculation\n",
    "\n",
    "## Problem Statement:\n",
    "Calculate the specific entropy of a system with a total entropy of 2500 J/K and a mass of 10 kg."
   ]
  },
  {
   "cell_type": "code",
   "execution_count": 1,
   "id": "c57a197d",
   "metadata": {},
   "outputs": [
    {
     "name": "stdout",
     "output_type": "stream",
     "text": [
      "Specific entropy: 0.2 kJ/(kg*K)\n"
     ]
    }
   ],
   "source": [
    "## Solution:\n",
    "\n",
    "# Given values\n",
    "S_total = 2500  # Total entropy in J/K\n",
    "m = 10  # Mass in kg\n",
    "\n",
    "# Specific entropy calculation\n",
    "s = S_total / m\n",
    "\n",
    "# Output the result\n",
    "print(f\"Specific entropy: {round(s/1e3,1)} kJ/(kg*K)\")"
   ]
  }
 ],
 "metadata": {
  "jupytext": {
   "text_representation": {
    "extension": ".md",
    "format_name": "myst",
    "format_version": 0.13,
    "jupytext_version": "1.15.2"
   }
  },
  "kernelspec": {
   "display_name": "oer",
   "language": "python",
   "name": "oerminimal"
  },
  "language_info": {
   "codemirror_mode": {
    "name": "ipython",
    "version": 3
   },
   "file_extension": ".py",
   "mimetype": "text/x-python",
   "name": "python",
   "nbconvert_exporter": "python",
   "pygments_lexer": "ipython3",
   "version": "3.9.19"
  },
  "source_map": [
   12,
   19
  ]
 },
 "nbformat": 4,
 "nbformat_minor": 5
}