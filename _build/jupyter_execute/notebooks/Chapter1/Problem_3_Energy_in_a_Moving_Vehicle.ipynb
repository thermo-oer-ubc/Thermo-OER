{
 "cells": [
  {
   "cell_type": "markdown",
   "id": "618e85c7",
   "metadata": {},
   "source": [
    "# 1.3 Energy in a Moving Vehicle\n",
    "\n",
    "## Problem Statement:\n",
    "A car with a mass of 1200 kg is traveling at a speed of 60 km/h. \n",
    "If the height above the ground is 50 m, calculate the total stored energy of the car."
   ]
  },
  {
   "cell_type": "code",
   "execution_count": 1,
   "id": "230f94df",
   "metadata": {},
   "outputs": [
    {
     "name": "stdout",
     "output_type": "stream",
     "text": [
      "Total stored energy of the car: 755 kJ\n"
     ]
    }
   ],
   "source": [
    "## Solution:\n",
    "\n",
    "# Given values\n",
    "m = 1200  # Mass of the car in kg\n",
    "V = 60 * (1000 / 3600)  # Speed in m/s (60 km/h)\n",
    "g = 9.81  # Acceleration due to gravity in m/s^2\n",
    "z = 50  # Height in meters\n",
    "\n",
    "# Total stored energy calculation\n",
    "E = m * (V**2 / 2 + g * z)\n",
    "\n",
    "# Output the result\n",
    "print(f\"Total stored energy of the car: {round(E/1e3)} kJ\")"
   ]
  }
 ],
 "metadata": {
  "jupytext": {
   "text_representation": {
    "extension": ".md",
    "format_name": "myst",
    "format_version": 0.13,
    "jupytext_version": "1.15.2"
   }
  },
  "kernelspec": {
   "display_name": "oer",
   "language": "python",
   "name": "oerminimal"
  },
  "language_info": {
   "codemirror_mode": {
    "name": "ipython",
    "version": 3
   },
   "file_extension": ".py",
   "mimetype": "text/x-python",
   "name": "python",
   "nbconvert_exporter": "python",
   "pygments_lexer": "ipython3",
   "version": "3.9.19"
  },
  "source_map": [
   12,
   20
  ]
 },
 "nbformat": 4,
 "nbformat_minor": 5
}