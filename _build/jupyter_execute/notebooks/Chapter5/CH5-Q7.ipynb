{
 "cells": [
  {
   "cell_type": "markdown",
   "id": "40c8dc13-bade-44da-97b2-8a5c5af7295e",
   "metadata": {},
   "source": [
    "# 5.7 Refrigeration cycle: Water flow-rate"
   ]
  },
  {
   "cell_type": "markdown",
   "id": "c55668b6-d03e-494b-a97b-fc1ed4f848db",
   "metadata": {},
   "source": [
    "Consider a refrigeration cycle using R134-a as the working fluid. The refrigerant absorbs heat at $-20 ^{\\circ}  C$ during evaporation and enters the compressor as a saturated vapor. The compressor then pressurizes R134-a until its temperature increases to $120 ^{\\circ}  C$. The refrigerant is then cooled down to a saturated liquid at $40 ^{\\circ}  C$ at constant pressure in a heat exchanger before entering a throttling valve. The refrigerant is throttled to $-20 ^{\\circ}  C$ then enters the evaporator. Assuming the refrigerant rejects heat to pressurized water in the heat exchanger, heating the water from room temperature to saturated vapor at $110 ^{\\circ}  C$, calculate the amount of water per kg of R134a to support cooling power in the heat exhanger."
   ]
  },
  {
   "attachments": {},
   "cell_type": "markdown",
   "id": "9d71f1a9-c66f-4be0-975f-0a04a8c3aeff",
   "metadata": {},
   "source": [
    "![CH5-Q7.jpg](CH5-Q7.png)"
   ]
  },
  {
   "cell_type": "markdown",
   "id": "ed00da2d-ee11-4391-a487-8d452e2f96db",
   "metadata": {},
   "source": [
    "# Solution Approach\n",
    "\n",
    "Based on the first law of thermodynamics, for the heat exchanger\n",
    "\n",
    "$Q+\\dot m_ih_i=\\dot m_eh_e$\n",
    "\n",
    "Assuming no heat losses from the heat exchanger,\n",
    "\n",
    "$\\dot m_5h_5+\\dot m_2h_2=\\dot m_3h_3+\\dot m_6h_6$\n",
    "\n",
    "given \n",
    "\n",
    "$\\dot m_5=\\dot m_6=\\dot m_{water}$\n",
    "\n",
    "and\n",
    "\n",
    "$\\dot m_2=\\dot m_3=\\dot m_{R134a}$\n",
    "\n",
    "water flow-rate per $1\\:kg/s$ of $R134a$ flow-rate would be\n",
    "\n",
    "$\\dot m_{water}=(h_2-h_3)/(h_6-h_5)$\n",
    "\n",
    "from question 5 of this chapter"
   ]
  },
  {
   "cell_type": "code",
   "execution_count": 1,
   "id": "bf524548-289a-4ca5-9645-79fefaf98828",
   "metadata": {},
   "outputs": [
    {
     "name": "stdout",
     "output_type": "stream",
     "text": [
      "The required water flow-rate to support cooling per kg/s of R134a: 0.1 kg/s\n"
     ]
    }
   ],
   "source": [
    "## import the libraries we'll need\n",
    "import CoolProp.CoolProp as CP\n",
    "\n",
    "# define variables\n",
    "fluid = \"R134A\"  # define the fluid or material of interest\n",
    "T_3 = 40 + 273.15 #state #3 temperature in K\n",
    "h_3 = CP.PropsSI(\"H\", \"T\", T_3, \"Q\", 0, fluid)/1000  # enthalpy of the refrigerant at state #3 in kJ/kg\n",
    "\n",
    "h_4 = h_3   #constant enthalpy through a throttling valve\n",
    "\n",
    "T_4 = -20 + 273.15   #temperature of refrigerant at state #4 in K\n",
    "\n",
    "P_4 = CP.PropsSI(\"P\", \"T\", T_4, \"Q\", 1, fluid)  # pressure of the refrigerant at state #1 in Pa (quality is set to 1 as the pressure keeps constant in sat region)\n",
    "\n",
    "T_1 = T_4 #temperature at state #1 in K\n",
    "h_1 = CP.PropsSI(\"H\", \"T\", T_1, \"Q\", 1, fluid)/1000  # enthalpy of the refrigerant at state #1 in kJ/kg\n",
    "\n",
    "T_2 = 120 + 273.15 #temperature at state #2 in K\n",
    "P_3 = CP.PropsSI(\"P\", \"T\", T_3, \"Q\", 0, fluid)  # pressure of the refrigerant at state #3 in Pa\n",
    "P_2 = P_3 # pressure of the refrigerant at state #2 in Pa\n",
    "h_2 = CP.PropsSI(\"H\", \"T\", T_2, \"P\", P_2, fluid)/1000  # enthalpy of the refrigerant at state #2 in kJ/kg\n",
    "\n",
    "#for the water side\n",
    "fluid = \"water\"\n",
    "T_6 = 110 + 273.15   #temperature of water at heat exchanger exit in K\n",
    "T_5 = 25 + 273.15   #temperature of water at heat exchanger inlet in K\n",
    "h_6 = CP.PropsSI(\"H\", \"T\", T_6, \"Q\", 1, fluid)/1000   #enthalpy of water at heat exchanger exit in kJ/kg\n",
    "P_6 = CP.PropsSI(\"P\", \"T\", T_6, \"Q\", 1, fluid)   #pressure of water at heat exchanger exit in Pa\n",
    "P_5 = P_6   #pressure of water at heat exchanger inlet in Pa assuming constant pressure heating\n",
    "h_5 = CP.PropsSI(\"H\", \"T\", T_5, \"P\", P_5, fluid)/1000   #enthalpy of water at heat exchanger exit in kJ/kg\n",
    "\n",
    "m_water = (h_2 - h_3) / (h_6 - h_5)\n",
    "\n",
    "print('The required water flow-rate to support cooling per kg/s of R134a:', f\"{m_water:.1f}\", 'kg/s')"
   ]
  },
  {
   "cell_type": "code",
   "execution_count": null,
   "id": "27e264aa-cd34-4824-b578-7a2ffab43a68",
   "metadata": {},
   "outputs": [],
   "source": []
  }
 ],
 "metadata": {
  "kernelspec": {
   "display_name": "oer",
   "language": "python",
   "name": "oerminimal"
  },
  "language_info": {
   "codemirror_mode": {
    "name": "ipython",
    "version": 3
   },
   "file_extension": ".py",
   "mimetype": "text/x-python",
   "name": "python",
   "nbconvert_exporter": "python",
   "pygments_lexer": "ipython3",
   "version": "3.9.19"
  }
 },
 "nbformat": 4,
 "nbformat_minor": 5
}