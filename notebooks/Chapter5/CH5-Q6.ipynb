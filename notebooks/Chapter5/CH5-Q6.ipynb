{
 "cells": [
  {
   "cell_type": "markdown",
   "id": "17432166-b411-4837-a1ad-1f3273aabcc5",
   "metadata": {},
   "source": [
    "# 5.6 Refrigeration cycle: R134a"
   ]
  },
  {
   "cell_type": "markdown",
   "id": "0d840f44-283a-4f22-80b6-ff4a7ca966d9",
   "metadata": {},
   "source": [
    "Consider a refrigeration cycle using R134-a as the coolant to provide $100\\:kW$ of cooling load to a cold storage. The refrigerant absorbs heat at $-20^{\\circ}  C$ during evaporation and enters the compressor as a saturated vapor. The compressor is coupled to a gas turbine operating with compressed air, which provides power to the compressor, pressurizing R134a and increasing its temperature to $120^{\\circ}  C$. The refrigerant is then cooled down to a saturated liquid at $40^{\\circ}  C$ in the condenser at constant pressure before entering a throttling valve. The refrigerant is then throttled to $-20^{\\circ}  C$ and enters the evaporator. Given that the turbine operates with compressed air at $1\\:MPa$ gauge pressure and room temperature, determine the air flow-rate required to provide the required cooling load if the air is discharged to the atmosphere at the turbine outlet and goes through a polytropic process with $n=1.5$. "
   ]
  },
  {
   "attachments": {},
   "cell_type": "markdown",
   "id": "a881357c-af8d-4afb-8392-48c2540c17f3",
   "metadata": {},
   "source": [
    "![CH5-Q6.jpg](CH5-Q6.png)"
   ]
  },
  {
   "cell_type": "markdown",
   "id": "c01513c4-0a59-41e2-8a0f-c097d5d91089",
   "metadata": {},
   "source": [
    "# Solution Approach\n",
    "\n",
    "The enthalpy change through the evaporator per $kg$ of the refrigerant is to be calculated. Afterwards, the flow-rate of refrigerant is calculated based on the cooling load, followed by calculation of compressor load based on flow-rate and work calculated per $kg$ of refrigerant. From question 5 of this chapter:"
   ]
  },
  {
   "cell_type": "code",
   "execution_count": 2,
   "id": "0332faa1-90a8-4501-ab8e-49c9372a4838",
   "metadata": {},
   "outputs": [],
   "source": [
    "# import the libraries we'll need\n",
    "import CoolProp.CoolProp as CP\n",
    "\n",
    "# define variables\n",
    "fluid = \"R134A\"  # define the fluid or material of interest\n",
    "T_3 = 40 + 273.15 #state #3 temperature in K\n",
    "h_3 = CP.PropsSI(\"H\", \"T\", T_3, \"Q\", 0, fluid)/1000  # enthalpy of the refrigerant at state #3 in kJ/kg\n",
    "\n",
    "h_4 = h_3   #constant enthalpy through a throttling valve\n",
    "\n",
    "T_4 = -20 + 273.15   #temperature of refrigerant at state #4 in K\n",
    "\n",
    "P_4 = CP.PropsSI(\"P\", \"T\", T_4, \"Q\", 1, fluid)  # pressure of the refrigerant at state #1 in Pa (quality is set to 1 as the pressure keeps constant in sat region)\n",
    "\n",
    "T_1 = T_4 #temperature at state #1 in K\n",
    "h_1 = CP.PropsSI(\"H\", \"T\", T_1, \"Q\", 1, fluid)/1000  # enthalpy of the refrigerant at state #1 in kJ/kg\n",
    "\n",
    "T_2 = 120 + 273.15 #temperature at state #2 in K\n",
    "P_3 = CP.PropsSI(\"P\", \"T\", T_3, \"Q\", 0, fluid)  # pressure of the refrigerant at state #3 in Pa\n",
    "P_2 = P_3 # pressure of the refrigerant at state #2 in Pa\n",
    "h_2 = CP.PropsSI(\"H\", \"T\", T_2, \"P\", P_2, fluid)/1000  # enthalpy of the refrigerant at state #2 in kJ/kg\n",
    "\n",
    "q_c = h_1 - h_4\n",
    "\n",
    "q_h = h_2 - h_3\n",
    "\n",
    "w = h_2 - h_1"
   ]
  },
  {
   "cell_type": "markdown",
   "id": "5c358918-46d7-4381-b2a7-fc61460d4a59",
   "metadata": {},
   "source": [
    "The total cooling load $\\dot Q_c$ is given to be $100\\:kW$; therefore the refrigerant flow-rate is calculated as\n",
    "\n",
    "$\\dot m_{R134a}=\\dot Q_c/q_c$"
   ]
  },
  {
   "cell_type": "code",
   "execution_count": 3,
   "id": "4c9bfb9c-090f-4004-be04-8103553d483d",
   "metadata": {},
   "outputs": [],
   "source": [
    "Q_c = 100    #cooling load in kW\n",
    "m_r134a = Q_c / q_c   #refrigerant flow-rate in kg/s"
   ]
  },
  {
   "cell_type": "markdown",
   "id": "b0da2521-ef32-479f-8e55-07b200c5ad99",
   "metadata": {},
   "source": [
    "The total work done by the compressor then would be,\n",
    "\n",
    "$\\dot W_{R134a}=\\dot m_{R134a}\\:w$"
   ]
  },
  {
   "cell_type": "code",
   "execution_count": 4,
   "id": "a4edb614-d8e0-4106-b138-afd79663216c",
   "metadata": {},
   "outputs": [],
   "source": [
    "W_r134a = m_r134a * w   #the work input by the compressor in kW"
   ]
  },
  {
   "cell_type": "markdown",
   "id": "3273b2b2-fac3-4bfa-ad88-3ca4df5615cb",
   "metadata": {},
   "source": [
    "Now, looking at the turbine-compressor coupling, the work required by the compressor is supported by the turbine in which air goes through a polytropic process. For a polytropic process,\n",
    "\n",
    "$Pv^n=constant$\n",
    "\n",
    "$P_1v_1^k=P_2v_2^k$\n",
    "\n",
    "$d (density)=1/v$\n",
    "\n",
    "$d_2/d_1=(P_2/P_1)^{(1/k)}$\n",
    "\n",
    "$d_2=d_1\\:(P_2/P_1)^{(1/k)}$"
   ]
  },
  {
   "cell_type": "code",
   "execution_count": 5,
   "id": "dc2fe53d-38a7-469b-8e25-f4c3e532f073",
   "metadata": {},
   "outputs": [],
   "source": [
    "#thermodynamic properties and constants for air at state #5\n",
    "fluid = \"Air\"\n",
    "R = 0.287    #air gas constant in kJ/kg.k\n",
    "P_atm = 101.325   #atmospheric pressure in kPa\n",
    "P_gauge = 1000   #guage presssure at turbine inlet in kPa\n",
    "P_5 = P_gauge + P_atm\n",
    "T_5 = 25 + 273.15   #compressed air temperature in K\n",
    "D_5 = CP.PropsSI(\"D\", \"T\", T_5, \"P\", P_5, fluid)  #air density at turbine inlet\n",
    "\n",
    "P_6 = P_atm   #pressure at turbine outlet in kPa\n",
    "n = 1.5\n",
    "D_6 = D_5 * (P_6/P_5) ** (1/n)"
   ]
  },
  {
   "cell_type": "markdown",
   "id": "593c3492-2bea-4e49-ae99-3ee7a34bca79",
   "metadata": {},
   "source": [
    "Now, considering the first law of thermodynamics,\n",
    "\n",
    "$w_{turbine} = h_5 - h_6$\n",
    "\n",
    "$\\dot W_{turbine}=\\dot m_{air} \\:(h_5-h_6)$\n",
    "\n",
    "and from the coupling assuming no loss in the shaft power,\n",
    "\n",
    "$\\dot W_{turbine}=\\dot W_{R134a}$\n",
    "\n",
    "$\\dot m_{air}=\\dot W_{R134a}/(h_5-h_6)$"
   ]
  },
  {
   "cell_type": "code",
   "execution_count": 6,
   "id": "3a7354c0-e9c5-4d18-9f1f-b38e5de30d32",
   "metadata": {},
   "outputs": [
    {
     "name": "stdout",
     "output_type": "stream",
     "text": [
      "The required air flow-rate through the turbine to run the cycle is: 0.6 kg/s\n"
     ]
    }
   ],
   "source": [
    "fluid = \"Air\"\n",
    "h_5 = CP.PropsSI(\"H\", \"T\", T_5, \"P\", P_5, fluid)/1000   #air enthalpy at turbine inlet in kJ/kg\n",
    "h_6 = CP.PropsSI(\"H\", \"D\", D_6, \"P\", P_6, fluid)/1000   #air enthalpy at turbine outlet in kJ/kg\n",
    "m_air = W_r134a / (h_5 - h_6)   #required air flow-rate in kg/s\n",
    "\n",
    "print('The required air flow-rate through the turbine to run the cycle is:', f\"{m_air:.1f}\", 'kg/s')"
   ]
  },
  {
   "cell_type": "code",
   "execution_count": null,
   "id": "9b0d4d3f-5f7f-45e1-b700-2ee16af09087",
   "metadata": {},
   "outputs": [],
   "source": []
  }
 ],
 "metadata": {
  "kernelspec": {
   "display_name": "oer",
   "language": "python",
   "name": "oerminimal"
  },
  "language_info": {
   "codemirror_mode": {
    "name": "ipython",
    "version": 3
   },
   "file_extension": ".py",
   "mimetype": "text/x-python",
   "name": "python",
   "nbconvert_exporter": "python",
   "pygments_lexer": "ipython3",
   "version": "3.9.19"
  }
 },
 "nbformat": 4,
 "nbformat_minor": 5
}
