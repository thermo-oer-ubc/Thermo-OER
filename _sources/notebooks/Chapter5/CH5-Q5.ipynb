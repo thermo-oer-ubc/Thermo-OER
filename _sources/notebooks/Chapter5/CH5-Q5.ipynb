{
 "cells": [
  {
   "cell_type": "markdown",
   "id": "3f1399a9-0681-418d-a5af-b4209c5c4e96",
   "metadata": {},
   "source": [
    "# 5.5 Refrigeration cycle: R134a"
   ]
  },
  {
   "cell_type": "markdown",
   "id": "3ff9c8f8-f27d-4dc9-a278-1058022f28af",
   "metadata": {},
   "source": [
    "Consider a refrigration cycle using R134-a as the working fluid. The refrigerant absorbs heat at $-20^{\\circ}  C$ during the evaporation process, then enters the compressor as a saturated vapor. In the compressor, R134a is pressurized until its temperature increases to $120^{\\circ}  C$. The refrigerant is then cooled down to saturated liquid at  $40^{\\circ}  C$ in a condenser. The refrigerant is then throttled to $-20^{\\circ}  C$ before the evaporator. \n",
    "\n",
    "Determine: \n",
    "\n",
    "a) specific enthalpy of the refrigerant entering the throttling valve\n",
    "\n",
    "b) specific enthalpy, quality and pressure of the refrigerant exiting the throttling valve\n",
    "\n",
    "c) specific enthalpy and pressure at compressor inlet\n",
    "\n",
    "d) specific enthalpy at compressor outlet\n",
    "\n",
    "e) how much heat is absorbed in the evaporator per unit mass of the refrigerant\n",
    "\n",
    "f) how much heat is rejected in the condenser per unit mass of the refrigerant\n",
    "\n",
    "g) how much work is required by the compressor to elevate $1\\:kg$ of the refrigerant's pressure; what is the coefficient of performance (COP)?\n",
    "\n",
    "h) the polytropic constant assuming a polytropic process in the compressor\n",
    "\n",
    "i) verify the first law of thermodynamics for the system as a whoole\n",
    "\n",
    "j) draw the process on a P-h diagram developed previously for Q4 at this chapter"
   ]
  },
  {
   "attachments": {},
   "cell_type": "markdown",
   "id": "3258fae4-6d28-43a9-a176-8cd3315fd5a4",
   "metadata": {},
   "source": [
    "![Q5.png](CH5-Q5.png)"
   ]
  },
  {
   "cell_type": "markdown",
   "id": "f81501ab-8b40-44f4-99fb-aebfb2fd53b7",
   "metadata": {},
   "source": [
    "# Solution Approach for a)\n",
    "\n",
    "The refrigerant entering the throttling valve comes from the condenser; therefore the state 3 enthalpy is desired. The temperature at this state is given as $T_3=40^{\\circ}  C$ and the refrigerant is at its satuarated liquid state with quality equal to $x=0$.\n"
   ]
  },
  {
   "cell_type": "code",
   "execution_count": 13,
   "id": "b382cf75-46f0-4ea0-be65-b5eddd69c7e4",
   "metadata": {},
   "outputs": [
    {
     "name": "stdout",
     "output_type": "stream",
     "text": [
      "Th specific enthalpy of the refrigerant at state #3 is: 256.4 kJ/kg\n"
     ]
    }
   ],
   "source": [
    "# import the libraries we'll need\n",
    "import CoolProp.CoolProp as CP\n",
    "\n",
    "# define variables\n",
    "\n",
    "fluid = \"R134A\"  # define the fluid or material of interest\n",
    "T_3 = 40 + 273.15 #state #3 temperature in K\n",
    "h_3 = CP.PropsSI(\"H\", \"T\", T_3, \"Q\", 0, fluid)/1000  # enthalpy of the refrigerant at state #3 in kJ/kg\n",
    "print('Th specific enthalpy of the refrigerant at state #3 is:', f\"{h_3:.1f}\", 'kJ/kg')"
   ]
  },
  {
   "cell_type": "markdown",
   "id": "25734c00-4a43-4b90-9a1f-665ffbeeae24",
   "metadata": {},
   "source": [
    "# Solution Approach for b)\n",
    "A throttling valve is ideally assumed to conserve enthalpy considering the first law of thermodynamics. Therefore,\n",
    "\n",
    "$h_3 = h_4$\n",
    "\n",
    "The refrigerant enters the evaporator as a saturated liquid at $-20^{\\circ}  C$, therefore\n",
    "\n",
    "$h_4 = h_{f@-20^{\\circ}  C}+xh_{fg@-20^{\\circ}  C}$\n",
    "\n",
    "$x = (h_4 - h_{f@-20^{\\circ}  C}) / h_{fg@-20^{\\circ}  C}$\n",
    "\n",
    "The pressure at the throttling valve exit remains the same as that of the evaporator inlet, which is the saturation pressure at the evaporator's operating temperature since the refrigerant enters the evaporator as a saturated liquid.\n",
    "\n",
    "$P_4 = P_{sat@-20^{\\circ}  C}$"
   ]
  },
  {
   "cell_type": "code",
   "execution_count": 14,
   "id": "dcc827d4-4d81-4159-bade-1799f58e42eb",
   "metadata": {},
   "outputs": [
    {
     "name": "stdout",
     "output_type": "stream",
     "text": [
      "The specific enthalpy of the refrigerant at state #4 is: 256.4 kJ/kg\n",
      "The quality of the refrigerant at state #4 is: 0.389\n",
      "The pressure of the refrigerant at state #4 is: 132735.0 Pa\n"
     ]
    }
   ],
   "source": [
    "h_4 = h_3   #constant enthalpy through a throttling valve\n",
    "\n",
    "T_4 = -20 + 273.15   #temperature of refrigerant at state #4 in K\n",
    "h_gN20 = CP.PropsSI(\"H\", \"T\", T_4, \"Q\", 1, fluid)/1000   #enthalpy of sat vap at -20C in kJ/kg\n",
    "h_fN20 = CP.PropsSI(\"H\", \"T\", T_4, \"Q\", 0, fluid)/1000   #enthalpy of sat lig at -20C in kJ/kg\n",
    "h_fgN20 = h_gN20 - h_fN20   #h_fg at -20C in kJ/kg\n",
    "x = (h_4 - h_fN20)/h_fgN20  #qaulity of refrigerant entering the evaporator\n",
    "\n",
    "P_4 = CP.PropsSI(\"P\", \"T\", T_4, \"Q\", x, fluid)  # pressure of the refrigerant at state #1 in Pa\n",
    "\n",
    "print('The specific enthalpy of the refrigerant at state #4 is:', f\"{h_4:.1f}\", 'kJ/kg')\n",
    "print('The quality of the refrigerant at state #4 is:', f\"{x:.3f}\")\n",
    "print('The pressure of the refrigerant at state #4 is:', f\"{P_4:.1f}\", 'Pa')"
   ]
  },
  {
   "cell_type": "markdown",
   "id": "732d17f7-d37c-42a5-ba9b-6b2813e48e9f",
   "metadata": {},
   "source": [
    "# Solution Approach for c)\n",
    "\n",
    "The refrigerant enters the compressor as saturated vapor, therefore it has gone through constant pressure(and temperature) heating in the evaporator whose temperature is $-20^{\\circ}  C$. So,\n",
    "\n",
    "$h_1 = h_{g@-20^{\\circ} C} $\n",
    "\n",
    "$P_1=P_{sat@-20^{\\circ}  C}$"
   ]
  },
  {
   "cell_type": "code",
   "execution_count": 4,
   "id": "34b8cbd9-1788-47d0-8d4d-df57e83680fd",
   "metadata": {},
   "outputs": [
    {
     "name": "stdout",
     "output_type": "stream",
     "text": [
      "Th specific enthalpy of the refrigerant at state #1 is: 386.6 kJ/kg\n",
      "Th pressure of the refrigerant at state #1 is: 132735.0 Pa\n"
     ]
    }
   ],
   "source": [
    "T_1 = T_4 #temperature at state #1 in K\n",
    "h_1 = CP.PropsSI(\"H\", \"T\", T_1, \"Q\", 1, fluid)/1000  # enthalpy of the refrigerant at state #1 in kJ/kg\n",
    "P_1 = CP.PropsSI(\"P\", \"T\", T_1, \"Q\", 1, fluid)  # pressure of the refrigerant at state #1 in Pa\n",
    "print('Th specific enthalpy of the refrigerant at state #1 is:', f\"{h_1:.1f}\", 'kJ/kg')\n",
    "print('Th pressure of the refrigerant at state #1 is:', f\"{P_1:.1f}\", 'Pa')"
   ]
  },
  {
   "cell_type": "markdown",
   "id": "91f26a40-b8b6-4ece-a44b-80a988b10d34",
   "metadata": {},
   "source": [
    "# Solution Approach for d)\n",
    "\n",
    "The refrigerant is heated to $T_2=120^{\\circ}  C$. The pressure to which the refrigerant is pressurized to, however, is unknown. The condenser is assumed to be operating at constant pressure. The pressure at its outlet is the same as the inlet, which is also the compressor outlet pressure. The pressure at the outlet is calculated based on the refrigerant being in a saturation state at $40^{\\circ}  C$.\n",
    "\n",
    "$P_2=P_3$\n",
    "\n",
    "$P_3=P_{satR134a@40^{\\circ}C}$\n",
    "\n",
    "The pressure and temperature at the compressor outlet are then used to calculate the specific enthalpy at this state."
   ]
  },
  {
   "cell_type": "code",
   "execution_count": 5,
   "id": "086d3eb7-9955-4f2b-b639-406aa71f7847",
   "metadata": {},
   "outputs": [
    {
     "name": "stdout",
     "output_type": "stream",
     "text": [
      "The specific of the refrigerant at state #2 is: 504.1 kJ/kg\n"
     ]
    }
   ],
   "source": [
    "T_2 = 120 + 273.15 #temperature at state #2 in K\n",
    "P_3 = CP.PropsSI(\"P\", \"T\", T_3, \"Q\", 0, fluid)  # pressure of the refrigerant at state #3 in Pa\n",
    "P_2 = P_3 # pressure of the refrigerant at state #2 in Pa\n",
    "h_2 = CP.PropsSI(\"H\", \"T\", T_2, \"P\", P_2, fluid)/1000  # enthalpy of the refrigerant at state #2 in kJ/kg\n",
    "print('The specific of the refrigerant at state #2 is:', f\"{h_2:.1f}\", 'kJ/kg')"
   ]
  },
  {
   "cell_type": "markdown",
   "id": "ae692ccb-9f81-4253-8bd2-3a16f88df4b8",
   "metadata": {},
   "source": [
    "# Solution Approach for e)\n",
    "\n",
    "Consider the first law of thermodynamics for the evaporator,\n",
    "\n",
    "$q_c=h_1-h_4$"
   ]
  },
  {
   "cell_type": "code",
   "execution_count": 6,
   "id": "f21d08f3-8642-4062-b9e4-e9eea24abaf3",
   "metadata": {},
   "outputs": [
    {
     "name": "stdout",
     "output_type": "stream",
     "text": [
      "130.1 kJ of heat is absorbed by the refrigerant in the evaporator per kg of refrigerant\n"
     ]
    }
   ],
   "source": [
    "q_c = h_1 - h_4\n",
    "print(f\"{q_c:.1f}\", 'kJ of heat is absorbed by the refrigerant in the evaporator per kg of refrigerant')"
   ]
  },
  {
   "cell_type": "markdown",
   "id": "15c45edd-58a6-494b-b3aa-c565e336de50",
   "metadata": {},
   "source": [
    "# Solution Approach for f)\n",
    "\n",
    "Consider the first law of thermodynamics for the condenser,\n",
    "\n",
    "$q_h=h_2-h_3$"
   ]
  },
  {
   "cell_type": "code",
   "execution_count": 7,
   "id": "d0b3d3ea-1174-4c30-b3a2-6b54369b4269",
   "metadata": {},
   "outputs": [
    {
     "name": "stdout",
     "output_type": "stream",
     "text": [
      "247.6 kJ of heat is rejected to the environment in the condenser per kg of refrigerant\n"
     ]
    }
   ],
   "source": [
    "q_h = h_2 - h_3\n",
    "print(f\"{q_h:.1f}\", 'kJ of heat is rejected to the environment in the condenser per kg of refrigerant')"
   ]
  },
  {
   "cell_type": "markdown",
   "id": "4354b9b8-5226-449c-8b5f-94d8c46e02e8",
   "metadata": {},
   "source": [
    "# Solution Approach for g)\n",
    "\n",
    "Consider the first law of thermodynamics for the compressor,\n",
    "\n",
    "$w=h_2-h_1$\n",
    "\n",
    "$COP=q_c/w$"
   ]
  },
  {
   "cell_type": "code",
   "execution_count": 8,
   "id": "c07e6b28-dcf0-416c-86b0-483cb63c9b62",
   "metadata": {},
   "outputs": [
    {
     "name": "stdout",
     "output_type": "stream",
     "text": [
      "117.5 kJ of energy is required to compress 1kg of R134-a to the desired pressure\n",
      "The COP of the cycle is: 1.1\n"
     ]
    }
   ],
   "source": [
    "w = h_2 - h_1\n",
    "cop = q_c / w\n",
    "print(f\"{w:.1f}\", 'kJ of energy is required to compress 1kg of R134-a to the desired pressure')\n",
    "print('The COP of the cycle is:', f\"{cop:.1f}\")"
   ]
  },
  {
   "cell_type": "markdown",
   "id": "de819244-f7ad-4c90-914b-7409e37fa4b0",
   "metadata": {},
   "source": [
    "# Solution Approach for h)\n",
    "\n",
    "In a polytropic process,\n",
    "\n",
    "$Pv^k=constant$\n",
    "\n",
    "$P_1v_1^k=P_2v_2^k$\n",
    "\n",
    "$P_1/P_2=(v_2/v_1)^k$\n",
    "\n",
    "$d (density)=1/v$\n",
    "\n",
    "$P_1/P_2=(d_1/d_2)^k$\n",
    "\n",
    "$log(P_1/P_2)=k\\:log(d_1/d_2)$\n",
    "\n",
    "$k=log(P_1/P_2)/log(d_1/d_2)$"
   ]
  },
  {
   "cell_type": "code",
   "execution_count": 9,
   "id": "0bae9760-a053-4425-beb4-78c073cd33bb",
   "metadata": {},
   "outputs": [
    {
     "name": "stdout",
     "output_type": "stream",
     "text": [
      "Th polytropic constant for the compression process is: 1.254\n"
     ]
    }
   ],
   "source": [
    "#importing required libraries\n",
    "import numpy as np\n",
    "\n",
    "#evaluating density \n",
    "d_1 = CP.PropsSI(\"D\", \"T\", T_1, \"Q\", 1, fluid)  # density of the refrigerant at state #1 in kg/m3 based on sat vepor\n",
    "d_2 = CP.PropsSI(\"D\", \"T\", T_2, \"P\", P_2, fluid)  # density of the refrigerant at state #2 in kg/m3 based on sat vepor\n",
    "k = np.log(P_1/P_2)/np.log(d_1/d_2)\n",
    "print('Th polytropic constant for the compression process is:', f\"{k:.3f}\")"
   ]
  },
  {
   "cell_type": "markdown",
   "id": "332e1cd2-e6c1-4c00-8524-a14f0be2e823",
   "metadata": {},
   "source": [
    "# Solution Approach for i)\n",
    "\n",
    "Consider the first law of thermodynamics for the whole system,\n",
    "\n",
    "$w=q_h-q_c$"
   ]
  },
  {
   "cell_type": "code",
   "execution_count": 10,
   "id": "aa663952-dfc6-42b9-a12f-bc9d365628e2",
   "metadata": {},
   "outputs": [
    {
     "data": {
      "text/plain": [
       "True"
      ]
     },
     "execution_count": 10,
     "metadata": {},
     "output_type": "execute_result"
    }
   ],
   "source": [
    "w_test =  q_h - q_c\n",
    "w_test == w #w_test is the value calculated from the first law and w is the value calculated using enthalpies"
   ]
  },
  {
   "cell_type": "markdown",
   "id": "3175a87c-cb24-4bdd-b908-730ff2b1d6e1",
   "metadata": {},
   "source": [
    "# Solution Approach for j)\n",
    "\n",
    "Except for the compression process, all other processes follow straight lines of constant pressure or constant enthalpy. The curve for compression process is built based on a polytropic process and thermodynamic properties obtained from CoolProp.\n",
    "\n",
    "from h)\n",
    "\n",
    "$P/P_1=(d/d_1)^k$\n",
    "\n",
    "$P=P1\\:(d/d_1)^k$\n",
    "\n",
    "values of $P$ and $d$ are generic pressure and density values for a polytropic process.\n",
    "\n",
    "then an array of densities ranging from $d_1$ to $d_2$ is used to calculate pressure and enthalpy accordingly."
   ]
  },
  {
   "cell_type": "code",
   "execution_count": 15,
   "id": "166f761c-bbe7-4ab7-bdcc-10d13d7da93b",
   "metadata": {},
   "outputs": [
    {
     "data": {
      "text/plain": [
       "<matplotlib.legend.Legend at 0x7f42f40471c0>"
      ]
     },
     "execution_count": 15,
     "metadata": {},
     "output_type": "execute_result"
    },
    {
     "data": {
      "image/png": "[encoded data removed]",
      "text/plain": [
       "<Figure size 640x480 with 1 Axes>"
      ]
     },
     "metadata": {},
     "output_type": "display_data"
    }
   ],
   "source": [
    "# import the libraries we'll need\n",
    "import CoolProp.CoolProp as CP\n",
    "import numpy as np\n",
    "import matplotlib.pyplot as plt\n",
    "\n",
    "#for the compression process 1-2\n",
    "#building an array of densities\n",
    "e = 1000   #number of data points for the polytropic process\n",
    "d_12 = np.linspace(d_1, d_2, e)  # define an array of values from d_1 to d_2\n",
    "P_12 = P_1 * (d_12/d_1) ** k   #array of pressure based on density for the polytropic compression\n",
    "h_12 = np.zeros(e)   #an empty array to store enthalpy values\n",
    "\n",
    "for i in range(e):\n",
    "   h_12[i] = CP.PropsSI(\"H\", \"P\", P_12[i], \"D\", d_12[i], fluid)/1000  # enthalpy values for the polytropic process in kJ/kg\n",
    "\n",
    "#for the condensing process at constant pressure\n",
    "P_23 = np.linspace(P_2, P_3, 1000)  # define an array of pressure values from 2 to 3\n",
    "h_23 = np.linspace(h_2, h_3, 1000)  # define a linear array of enthalpy values from 2 to 3\n",
    "\n",
    "#for the process through the throttling valve at constant enthalpy\n",
    "P_34 = np.linspace(P_3, P_4, 1000)  # define an array of pressure values from 3 to 4\n",
    "h_34 = np.linspace(h_3, h_4, 1000)  # define a linear array of enthalpy values from 3 to 4\n",
    "\n",
    "#for the condensing process at constant pressure\n",
    "P_41 = np.linspace(P_4, P_1, 1000)  # define an array of pressure values from 4 to 1\n",
    "h_41 = np.linspace(h_4, h_1, 1000)  # define a linear array of enthalpy values from 4 to 1\n",
    "\n",
    "#plotting the process on the P-h diagram\n",
    "plt.plot(h_23, P_23, \"-\", label=\"condenser\")\n",
    "plt.plot(h_34, P_34, \"-\", label=\"throttling valve\")\n",
    "plt.plot(h_41, P_41, \"-\", label=\"evaporator\")\n",
    "plt.plot(h_12, P_12, \"-\", label=\"compressor\")\n",
    "plt.legend()\n",
    "\n",
    "\n",
    "#building the P-h diagram\n",
    "\n",
    "\n",
    "# define variables\n",
    "fluid = \"R134A\"  # define the fluid or material of interest, for full list see CP.Fluidslist()\n",
    "T_min = CP.PropsSI(\"Tmin\", fluid)  # triple-point temp for the fluid\n",
    "P_min = CP.PropsSI(\"P\", \"T\", T_min, \"Q\", 0, fluid)  # triple-point pressure for the fluid\n",
    "P_max = 4.03E+6 #approximate critical pressure\n",
    "\n",
    "P_vals = np.linspace(P_min, P_max, 1000)  # define an array of values from P_min to P_max\n",
    "Q = 1  # define the fluid quality as 1, which is 100% vapor\n",
    "\n",
    "enthalpy = [CP.PropsSI(\"H\", \"P\", P, \"Q\", Q, fluid)/1000 for P in P_vals]  # call for enthalpy values using CoolProp\n",
    "\n",
    "plt.plot(enthalpy, P_vals, \"-b\", label=\"Saturation Line\")  # plot pressure vs enthalpy\n",
    "\n",
    "Q = 0  # define the fluid quality as 0, which is 100% liquid\n",
    "\n",
    "enthalpy = [CP.PropsSI(\"H\", \"P\", P, \"Q\", Q, fluid)/1000 for P in P_vals] # call for enthalpy values using CoolProp\n",
    "\n",
    "plt.plot(enthalpy, P_vals, \"-b\")  # plot pressure vs enthalpy\n",
    "\n",
    "\n",
    "plt.yscale(\"log\")  # use log scale on y axis\n",
    "plt.ylabel(\"Pressure [Pa]\")  # give y axis a label\n",
    "plt.xlabel(\"Enthalpy [kJ/kg]\")  # give x axis a label\n",
    "plt.grid()\n",
    "\n",
    "\n",
    "# Building constant temperature curves\n",
    "\n",
    "T_up = T_2\n",
    "T_mid = T_3\n",
    "T_down = T_4\n",
    "\n",
    "P_max = 20E+6  # max pressure in the plot set to 20MPa\n",
    "P_vals = np.linspace(P_min, P_max, 10000)  # define an array of values from P_min to P_max\n",
    "enthalpy_up = [CP.PropsSI(\"H\", \"P\", P, \"T\", T_up, fluid)/1000 for P in P_vals] # call for enthalpy values using CoolProp\n",
    "enthalpy_mid = [CP.PropsSI(\"H\", \"P\", P, \"T\", T_mid, fluid)/1000 for P in P_vals] # call for enthalpy values using CoolProp\n",
    "enthalpy_down = [CP.PropsSI(\"H\", \"P\", P, \"T\", T_down, fluid)/1000 for P in P_vals] # call for enthalpy values using CoolProp\n",
    "\n",
    "plt.plot(enthalpy_up, P_vals, \"-.y\", label=T_up-273.15)  # plot pressure vs enthalpy\n",
    "plt.plot(enthalpy_mid, P_vals, \":r\", label=T_mid-273.15)  # plot pressure vs enthalpy\n",
    "plt.plot(enthalpy_down, P_vals, \"--m\", label=T_down-273.15)  # plot pressure vs enthalpy\n",
    "plt.legend()\n"
   ]
  },
  {
   "cell_type": "code",
   "execution_count": null,
   "id": "83bc725c-b96c-4c6b-a1b3-698969b8b741",
   "metadata": {},
   "outputs": [],
   "source": []
  }
 ],
 "metadata": {
  "kernelspec": {
   "display_name": "oer",
   "language": "python",
   "name": "oerminimal"
  },
  "language_info": {
   "codemirror_mode": {
    "name": "ipython",
    "version": 3
   },
   "file_extension": ".py",
   "mimetype": "text/x-python",
   "name": "python",
   "nbconvert_exporter": "python",
   "pygments_lexer": "ipython3",
   "version": "3.9.19"
  }
 },
 "nbformat": 4,
 "nbformat_minor": 5
}
